{
 "cells": [
  {
   "cell_type": "markdown",
   "source": [
    "## Assignment\n",
    "\n",
    "Apply the non-unitary matrix $$\\begin{pmatrix}\n",
    "1 & 0 \\\\\n",
    "0 & 0\n",
    "\\end{pmatrix}$$\n",
    "on a 1-qubit quantum state which has a 0.3 probability of being measured in the zero state $|0\\rangle$"
   ],
   "metadata": {
    "collapsed": false,
    "pycharm": {
     "name": "#%% md\n"
    }
   }
  },
  {
   "cell_type": "markdown",
   "id": "562b2067",
   "metadata": {
    "pycharm": {
     "name": "#%% md\n"
    }
   },
   "source": [
    "### Applying a Non-Unitary Matrix to a Quantum State\n",
    "In quantum mechanics, and by extension in quantum computing, the evolution of an isolated quantum system is described by unitary transformations. This requirement stems from the foundational principles of quantum mechanics, particularly the need to preserve the norm of quantum states and the probabilistic interpretation of these states.\n",
    "\n",
    "In order to apply non-unitary operations to a quantum system, several techniques are used. One of these is The Linear Combination of Unitaries (LCU).\n",
    "\n",
    "The Linear Combination of Unitaries (LCU) technique is an advanced method for implementing non-unitary transformations within quantum circuits by expressing the desired non-unitary operation as a linear combination of unitary operations. This technique is particularly useful for quantum algorithms where non-unitary operations need to be simulated, and it allows for the implementation of complex mathematical functions that are otherwise challenging to achieve directly with standard quantum gates.\n",
    "\n",
    "\n",
    "\n",
    "The LCU method is based on the idea that any operator $A$ can be expressed as a linear combination of unitary operators $U_i$, with coefficients $\\alpha_i$:\n",
    "$$ A = \\sum_{i=0}^{2^n-1} \\alpha_i U_i $$\n"
   ]
  },
  {
   "cell_type": "markdown",
   "source": [
    "Our non-unitary matrix is a 2x2 matrix, so can be expressed as a linear combination of Pauli matrices(X,Y,X) and the identity matrix (I). This is called **Pauli Decomposition** of Operators."
   ],
   "metadata": {
    "collapsed": false
   }
  },
  {
   "cell_type": "markdown",
   "source": [
    "The general form of any 2x2 matrix $A$ decomposed into Pauli matrices and the identity matrix is given by:\n",
    "$$A=aI+bX+cY+dZ$$, where $a,b,c$ and $d$ are coefficients that can be determined from A. These coefficients are calculated using:\n",
    "$$a = \\frac{1}{2} \\text{Tr}(AI), \\quad b = \\frac{1}{2} \\text{Tr}(AX), \\quad c = \\frac{1}{2} \\text{Tr}(AY), \\quad d = \\frac{1}{2} \\text{Tr}(AZ)$$\n",
    "Let's calculate each of these for the given matrix $$ A =\\begin{pmatrix}\n",
    "1 & 0 \\\\\n",
    "0 & 0\n",
    "\\end{pmatrix}$$\n",
    "Calculating these coefficients:\n",
    "$$ a = \\frac{1}{2} \\text{Tr}\\left(\\begin{pmatrix} 1 & 0 \\\\ 0 & 0 \\end{pmatrix}\\right) = \\frac{1}{2}(1 + 0) = \\frac{1}{2}$$\n",
    "$$ b = \\frac{1}{2} \\text{Tr}\\left(\\begin{pmatrix} 1 & 0 \\\\ 0 & 0 \\end{pmatrix} \\begin{pmatrix} 0 & 1 \\\\ 1 & 0 \\end{pmatrix}\\right) = \\frac{1}{2}(0 + 0) = 0$$\n",
    "$$c = \\frac{1}{2} \\text{Tr}\\left(\\begin{pmatrix} 1 & 0 \\\\ 0 & 0 \\end{pmatrix} \\begin{pmatrix} 0 & -i \\\\ i & 0 \\end{pmatrix}\\right) = \\frac{1}{2}(0 + 0) = 0 $$\n",
    "$$ d = \\frac{1}{2} \\text{Tr}\\left(\\begin{pmatrix} 1 & 0 \\\\ 0 & 0 \\end{pmatrix} \\begin{pmatrix} 1 & 0 \\\\ 0 & -1 \\end{pmatrix}\\right) = \\frac{1}{2}(1 + 0) = \\frac{1}{2}$$\n",
    "\n",
    "Thus, the Pauli decomposition of \\( A \\) is:\n",
    "$$A = \\frac{1}{2}I + 0X + 0Y + \\frac{1}{2}Z = \\frac{1}{2}(I + Z) = \\frac{1}{2}\\left(\\begin{pmatrix} 1 & 0 \\\\ 0 & 1 \\end{pmatrix} + \\begin{pmatrix} 1 & 0 \\\\ 0 & -1 \\end{pmatrix}\\right)$$"
   ],
   "metadata": {
    "collapsed": false,
    "pycharm": {
     "name": "#%% md\n"
    }
   }
  },
  {
   "cell_type": "markdown",
   "source": [
    "Let's use the pennylane library to check our calculations."
   ],
   "metadata": {
    "collapsed": false,
    "pycharm": {
     "name": "#%% md\n"
    }
   }
  },
  {
   "cell_type": "code",
   "execution_count": 1,
   "id": "ab5fc464",
   "metadata": {},
   "outputs": [
    {
     "name": "stdout",
     "output_type": "stream",
     "text": [
      "LCU decomposition:\n",
      "   (0.5) [I0]\n",
      "+ (0.5) [Z0]\n",
      "Coefficients:\n",
      " [0.5, 0.5]\n",
      "Unitaries:\n",
      " [Identity(wires=[0]), PauliZ(wires=[0])]\n"
     ]
    }
   ],
   "source": [
    "import numpy as np\n",
    "import pennylane as qml\n",
    "\n",
    "A = np.array(\n",
    "    [[1,0],\n",
    "     [0,0]]\n",
    ")\n",
    "\n",
    "LCU = qml.pauli_decompose(A)\n",
    "LCU_coeffs, LCU_ops = LCU.terms()\n",
    "\n",
    "print(f\"LCU decomposition:\\n {LCU}\")\n",
    "print(f\"Coefficients:\\n {LCU_coeffs}\")\n",
    "print(f\"Unitaries:\\n {LCU_ops}\")"
   ]
  },
  {
   "cell_type": "markdown",
   "source": [
    "We can see that the manual calculations agree with those of the pennylane library."
   ],
   "metadata": {
    "collapsed": false
   }
  },
  {
   "cell_type": "markdown",
   "source": [
    "Linear Combination of Unitaries (LCU) Method"
   ],
   "metadata": {
    "collapsed": false
   }
  },
  {
   "cell_type": "markdown",
   "source": [
    " STEP 1: **Define the Initial State**:\n",
    "The initial state $ \\psi\\rangle$  of the qubit is given by the probability 0.3 of being measured in the state $|0\\rangle$ and 0.7 in the state $|1\\rangle$. Thus, the state vector $|\\psi\\rangle$ can be represented as:\n",
    "$$ |\\psi\\rangle = \\sqrt{0.3} |0\\rangle + \\sqrt{0.7} |1\\rangle$$"
   ],
   "metadata": {
    "collapsed": false
   }
  },
  {
   "cell_type": "markdown",
   "source": [
    "\n",
    " STEP 2: **Ancilla State Preparation** *PREPARE*:\n",
    " Prepare an ancilla qubit in a superposition state such that the amplitudes correspond to the square roots of the absolute values of the coefficients of the unitaries. For $\\frac{1}{2}$ coefficients, prepare the ancilla in the state:\n",
    "  $ |\\psi_{ancilla}\\rangle= \\frac{1}{\\sqrt{2}}(|0\\rangle + |1\\rangle)$\n",
    "This can be achieved using a Hadamard gate on the ancilla qubit initially in the state $|0\\rangle$.\n"
   ],
   "metadata": {
    "collapsed": false
   }
  },
  {
   "cell_type": "markdown",
   "source": [
    "STEP 3: **Controlled Unitary Operations** SELECT:\n",
    "Apply the unitaries $I$ and 𝑍 controlled on the state of the ancilla qubit. This is done by setting up a control system where:\n",
    "* When the ancilla is $∣0\\rangle$, apply the identity matrix I (which does nothing).\n",
    "* When the ancilla is $∣1\\rangle$, apply the Pauli Z matrix.\n"
   ],
   "metadata": {
    "collapsed": false
   }
  },
  {
   "cell_type": "markdown",
   "source": [
    "STEP 4: **Adjoint of the State Preparation** PREPARE$^{-1}$:\n",
    "n the scenario described where we used a Hadamard gate for state preparation, the adjoint of the Hadamard gate is the Hadamard gate itself (since H =H$^{\\dagger}$). This is because the Hadamard gate is self-inverse."
   ],
   "metadata": {
    "collapsed": false,
    "pycharm": {
     "name": "#%% md\n"
    }
   }
  },
  {
   "cell_type": "code",
   "execution_count": 3,
   "id": "534875fc",
   "metadata": {
    "scrolled": true
   },
   "outputs": [
    {
     "name": "stdout",
     "output_type": "stream",
     "text": [
      "Opening: https://platform.classiq.io/circuit/cea1f8d2-8ad1-4c59-81f7-68d18db56daf?version=0.43.2\n"
     ]
    }
   ],
   "source": [
    "from classiq import *\n",
    "from classiq.execution import ExecutionPreferences\n",
    "\n",
    "\n",
    "@qfunc\n",
    "def lcu_controllers(controller: QNum, psi: QNum):\n",
    "    control(ctrl=controller == 0, operand=lambda: apply_to_all(IDENTITY, psi))\n",
    "\n",
    "    control(ctrl=controller == 1, operand=lambda: apply_to_all(Z,psi))\n",
    "\n",
    "\n",
    "@qfunc\n",
    "def main(controller: Output[QNum], psi: Output[QNum]):\n",
    "    # Defining the error bound and probability distribution\n",
    "    error_bound = 0.01\n",
    "    controller_probabilities = [0.5, 0.5]\n",
    "    # Allocating the target and control qubits, respectively\n",
    "    allocate(1, psi)\n",
    "\n",
    "    allocate(1, controller)\n",
    "   \n",
    "    # Preparing |psi> state - which has a 0.3 probability being measured in the zero state |0〉\n",
    "    inplace_prepare_state(probabilities=[0.3,0.7], bound=error_bound, target=psi)\n",
    "    \n",
    "    # Executing the Within-Apply function, the SELECT function is defined by lcu_controllers and the PREPARE function is defined by the inplace_prepare_state function.\n",
    "    within_apply(\n",
    "        compute=lambda: hadamard_transform(controller),\n",
    "        action=lambda: lcu_controllers(controller, psi),\n",
    "    )\n",
    "\n",
    "\n",
    "qmod = create_model(main)\n",
    "qmod = set_execution_preferences(qmod, execution_preferences=ExecutionPreferences(num_shots=2048, job_name=\"6.10 - assignemt\", random_seed=767))\n",
    "qprog = synthesize(qmod)\n",
    "show(qprog)"
   ]
  },
  {
   "cell_type": "code",
   "execution_count": 9,
   "id": "b5ee665b",
   "metadata": {},
   "outputs": [
    {
     "data": {
      "text/plain": "[TaggedExecutionDetails(value_type=<SavedResultValueType.ExecutionDetails: 'ExecutionDetails'>, name='result', value=ExecutionDetails(vendor_format_result={}, counts={'00': 596, '11': 1452}, counts_lsb_right=True, parsed_states={'00': {'controller': 0.0, 'psi': 0.0}, '11': {'controller': 1.0, 'psi': 1.0}}, histogram=None, output_qubits_map={'controller': (0,), 'psi': (1,)}, state_vector=None, parsed_state_vector_states=None, physical_qubits_map={'controller': (1,), 'psi': (0,)}, num_shots=2048))]"
     },
     "execution_count": 9,
     "metadata": {},
     "output_type": "execute_result"
    }
   ],
   "source": [
    "result = execute(qprog).result()\n",
    "result"
   ]
  },
  {
   "cell_type": "code",
   "execution_count": 5,
   "id": "5c0d05da",
   "metadata": {},
   "outputs": [
    {
     "data": {
      "text/plain": "{'00': 596, '11': 1452}"
     },
     "execution_count": 5,
     "metadata": {},
     "output_type": "execute_result"
    }
   ],
   "source": [
    "result[0].value.counts"
   ]
  },
  {
   "cell_type": "code",
   "execution_count": 7,
   "id": "0d3fea8d",
   "metadata": {},
   "outputs": [
    {
     "data": {
      "text/plain": "<Figure size 800x500 with 1 Axes>",
      "image/png": "[encoded data removed]"
     },
     "metadata": {},
     "output_type": "display_data"
    }
   ],
   "source": [
    "import matplotlib.pyplot as plt\n",
    "\n",
    "\n",
    "# Labels and values for the histogram\n",
    "labels = list(result[0].value.counts.keys())\n",
    "values = [result[0].value.counts[label] for label in labels]\n",
    "\n",
    "# Create the histogram\n",
    "plt.figure(figsize=(8, 5))\n",
    "plt.bar(labels, values, color=['blue', 'blue'])\n",
    "plt.xlabel('Measurement Outcomes')\n",
    "plt.ylabel('Number of Occurrences')\n",
    "plt.title('Histogram of Quantum Measurement Outcomes')\n",
    "plt.grid(axis='y', linestyle='--', alpha=0.7)\n",
    "\n",
    "# Show the histogram\n",
    "plt.show()"
   ]
  },
  {
   "cell_type": "code",
   "execution_count": null,
   "outputs": [],
   "source": [],
   "metadata": {
    "collapsed": false,
    "pycharm": {
     "name": "#%%\n"
    }
   }
  }
 ],
 "metadata": {
  "kernelspec": {
   "display_name": "Python 3 (ipykernel)",
   "language": "python",
   "name": "python3"
  },
  "language_info": {
   "codemirror_mode": {
    "name": "ipython",
    "version": 3
   },
   "file_extension": ".py",
   "mimetype": "text/x-python",
   "name": "python",
   "nbconvert_exporter": "python",
   "pygments_lexer": "ipython3",
   "version": "3.10.12"
  }
 },
 "nbformat": 4,
 "nbformat_minor": 5
}