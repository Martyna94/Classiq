{
 "cells": [
  {
   "cell_type": "markdown",
   "source": [
    "[A full list of possible constraints and preferences is available in the reference manual.](https://docs.classiq.io/latest/reference-manual/platform/synthesis/constraints/)"
   ],
   "metadata": {
    "collapsed": false
   }
  },
  {
   "cell_type": "markdown",
   "source": [
    "# Concrete Example\n",
    "First, understand Qmod through an example.\n",
    "\n",
    "The task is to design a quantum algorithm that coherently computes the arithmetic operation $y=x^2+1$, for a quantum variable $\\Ket{x}$ taht is a superposition of all the numbers between 0 and 7: $\\Ket{x} = \\frac{1}{\\sqrt{8}}(\\Ket{0}+\\Ket{1}+ ... + \\Ket{7})$. The expected output is\n",
    "$$\\Ket{x}\\Ket{y} = \\Ket{x}\\Ket{x^2+1} = \\frac{1}{\\sqrt{8}}\\sum^{7}_{i=0}\\Ket{i}\\Ket{i^2+1}$$, where $\\Ket{x}$ is entangled to $\\Ket{y}$.\n",
    "This may sound complicated, but the following few lines of code in Qmod create the desired algorithm with Classiq."
   ],
   "metadata": {
    "collapsed": false
   }
  },
  {
   "cell_type": "code",
   "execution_count": 1,
   "metadata": {
    "collapsed": true
   },
   "outputs": [],
   "source": [
    "from classiq import *\n",
    "\n",
    "\n",
    "@qfunc\n",
    "def main(x: Output[QNum], y: Output[QNum]):\n",
    "\n",
    "    allocate(4, x)\n",
    "    hadamard_transform(x)  # creates a uniform superposition\n",
    "    y |= x**2 + 1"
   ]
  },
  {
   "cell_type": "markdown",
   "source": [
    "Which one can always directly synthesize without any constraints or preferences:"
   ],
   "metadata": {
    "collapsed": false
   }
  },
  {
   "cell_type": "code",
   "execution_count": 9,
   "outputs": [],
   "source": [
    "quantum_program = synthesize(create_model(main))"
   ],
   "metadata": {
    "collapsed": false,
    "pycharm": {
     "name": "#%%\n"
    }
   }
  },
  {
   "cell_type": "markdown",
   "source": [
    "But in the following we cover how to do apply constraints and preferences."
   ],
   "metadata": {
    "collapsed": false
   }
  },
  {
   "cell_type": "markdown",
   "source": [
    "### Constraints and Preferences in the Python SDK\n",
    "The synthesis engine receives an underlying Qmod representation of the quantum model that is constructed in the Python SDK using the create_model function:"
   ],
   "metadata": {
    "collapsed": false
   }
  },
  {
   "cell_type": "code",
   "execution_count": 2,
   "outputs": [],
   "source": [
    "quantum_model = create_model(main)"
   ],
   "metadata": {
    "collapsed": false,
    "pycharm": {
     "name": "#%%\n"
    }
   }
  },
  {
   "cell_type": "markdown",
   "source": [
    "This quantum_model can be directly synthesized with the command synthesize(quantum_model) to return the quantum program implementation. However, if we want to apply some constraints and preferences we need to adapt the quantum_model representation.\n",
    "\n",
    "First, assume that we want to receive a circuit implementation with minimal number of qubits and with maximal circuit depth of 500\n",
    ". So we can apply these as constraints to our quantum_model:"
   ],
   "metadata": {
    "collapsed": false
   }
  },
  {
   "cell_type": "code",
   "execution_count": 11,
   "outputs": [
    {
     "name": "stdout",
     "output_type": "stream",
     "text": [
      "Opening: https://platform.classiq.io/circuit/578a595b-cebe-4eee-8b8a-e239fc7403d2?version=0.42.2\n"
     ]
    }
   ],
   "source": [
    "quantum_model_with_constraints = set_constraints(\n",
    "    quantum_model, Constraints(optimization_parameter=\"width\", max_depth=500)\n",
    ")\n",
    "quantum_program = synthesize(quantum_model_with_constraints)\n",
    "show(quantum_program)"
   ],
   "metadata": {
    "collapsed": false,
    "pycharm": {
     "name": "#%%\n"
    }
   }
  },
  {
   "cell_type": "markdown",
   "source": [
    "And the parameters of the circuit implementation can be extracted:"
   ],
   "metadata": {
    "collapsed": false
   }
  },
  {
   "cell_type": "code",
   "execution_count": 7,
   "outputs": [
    {
     "name": "stdout",
     "output_type": "stream",
     "text": [
      "The circuit width is 12 and the circuit_depth is 392\n"
     ]
    }
   ],
   "source": [
    "circuit_width = QuantumProgram.from_qprog(quantum_program).data.width\n",
    "circuit_depth = QuantumProgram.from_qprog(quantum_program).transpiled_circuit.depth\n",
    "print(f\"The circuit width is {circuit_width} and the circuit_depth is {circuit_depth}\")"
   ],
   "metadata": {
    "collapsed": false,
    "pycharm": {
     "name": "#%%\n"
    }
   }
  },
  {
   "cell_type": "markdown",
   "source": [
    "**Compilation vs Transpilation**\n",
    "\n",
    "The synthesis engine is a compiler that compiles a high-level functional model to one specific circuit out of many possible implementations. A transpiler on the other hand, transforms one circuit implementation to another one. Its use can be to change from a circuit representation with a given basis gate set to another one, or to further optimize a given circuit implementation with basic optimization procedures like cancellation of two identical Hermitian gates applied consequently."
   ],
   "metadata": {
    "collapsed": false
   }
  },
  {
   "cell_type": "markdown",
   "source": [
    "Modify the constraints above such that you optimize the circuit for minimal circuit depth using maximum 25 qubits. What are the circuit depth and width you receive? Are they different than the above example? Try to analyze the two quantum circuits using `show(quantum_program)` and figure our which functional building block is implemented differently."
   ],
   "metadata": {
    "collapsed": false
   }
  },
  {
   "cell_type": "code",
   "execution_count": 15,
   "outputs": [
    {
     "name": "stdout",
     "output_type": "stream",
     "text": [
      "Opening: https://platform.classiq.io/circuit/75879705-3b06-4c55-a18e-38ac451d745c?version=0.42.2\n"
     ]
    }
   ],
   "source": [
    "quantum_model_with_constraints2 = set_constraints(\n",
    "    quantum_model, Constraints(optimization_parameter =\n",
    "                               OptimizationParameter.DEPTH,max_width = 25)\n",
    ")\n",
    "quantum_program2 = synthesize(quantum_model_with_constraints2)\n",
    "show(quantum_program2)"
   ],
   "metadata": {
    "collapsed": false,
    "pycharm": {
     "name": "#%%\n"
    }
   }
  },
  {
   "cell_type": "code",
   "execution_count": 16,
   "outputs": [
    {
     "name": "stdout",
     "output_type": "stream",
     "text": [
      "The circuit width is 21 and the circuit_depth is 346\n"
     ]
    }
   ],
   "source": [
    "circuit_width = QuantumProgram.from_qprog(quantum_program2).data.width\n",
    "circuit_depth = QuantumProgram.from_qprog(quantum_program2).transpiled_circuit.depth\n",
    "print(f\"The circuit width is {circuit_width} and the circuit_depth is {circuit_depth}\")"
   ],
   "metadata": {
    "collapsed": false,
    "pycharm": {
     "name": "#%%\n"
    }
   }
  },
  {
   "cell_type": "code",
   "execution_count": 17,
   "outputs": [
    {
     "name": "stdout",
     "output_type": "stream",
     "text": [
      "The circuit width is 12 and the circuit_depth is 1655\n"
     ]
    }
   ],
   "source": [
    "quantum_model_with_preferences = set_preferences(\n",
    "    quantum_model,\n",
    "    Preferences(backend_service_provider=\"IBM Quantum\", backend_name=\"ibm_brisbane\"),\n",
    ")\n",
    "\n",
    "quantum_program3 = synthesize(quantum_model_with_preferences)\n",
    "circuit_width = QuantumProgram.from_qprog(quantum_program3).data.width\n",
    "circuit_depth = QuantumProgram.from_qprog(quantum_program3).transpiled_circuit.depth\n",
    "print(f\"The circuit width is {circuit_width} and the circuit_depth is {circuit_depth}\")"
   ],
   "metadata": {
    "collapsed": false,
    "pycharm": {
     "name": "#%%\n"
    }
   }
  },
  {
   "cell_type": "code",
   "execution_count": 18,
   "outputs": [],
   "source": [
    "write_qmod(quantum_model_with_constraints, \"optimize\")"
   ],
   "metadata": {
    "collapsed": false,
    "pycharm": {
     "name": "#%%\n"
    }
   }
  },
  {
   "cell_type": "code",
   "execution_count": null,
   "outputs": [],
   "source": [],
   "metadata": {
    "collapsed": false,
    "pycharm": {
     "name": "#%%\n"
    }
   }
  }
 ],
 "metadata": {
  "kernelspec": {
   "display_name": "Python 3",
   "language": "python",
   "name": "python3"
  },
  "language_info": {
   "codemirror_mode": {
    "name": "ipython",
    "version": 2
   },
   "file_extension": ".py",
   "mimetype": "text/x-python",
   "name": "python",
   "nbconvert_exporter": "python",
   "pygments_lexer": "ipython2",
   "version": "2.7.6"
  }
 },
 "nbformat": 4,
 "nbformat_minor": 0
}