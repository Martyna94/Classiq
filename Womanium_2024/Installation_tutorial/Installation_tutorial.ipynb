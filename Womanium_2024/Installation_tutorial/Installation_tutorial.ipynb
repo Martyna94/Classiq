{
 "cells": [
  {
   "cell_type": "code",
   "execution_count": 5,
   "metadata": {
    "collapsed": false,
    "jupyter": {
     "outputs_hidden": false
    },
    "pycharm": {
     "name": "#%%\n"
    }
   },
   "outputs": [],
   "source": [
    "from classiq import *\n",
    "\n",
    "@qfunc\n",
    "def main(x: Output[QNum], y: Output[QNum]):\n",
    "\n",
    "    allocate(4, x)\n",
    "    hadamard_transform(x)  # creates a uniform superposition\n",
    "    y |= x**2 + 1"
   ]
  },
  {
   "cell_type": "code",
   "execution_count": 6,
   "metadata": {},
   "outputs": [
    {
     "name": "stdout",
     "output_type": "stream",
     "text": [
      "0.42.2\n"
     ]
    }
   ],
   "source": [
    "import classiq\n",
    "print(classiq.__version__)"
   ]
  },
  {
   "cell_type": "code",
   "execution_count": 7,
   "metadata": {},
   "outputs": [],
   "source": [
    "quantum_program = synthesize(create_model(main))"
   ]
  },
  {
   "cell_type": "code",
   "execution_count": 8,
   "metadata": {},
   "outputs": [
    {
     "name": "stdout",
     "output_type": "stream",
     "text": [
      "Opening: https://platform.classiq.io/circuit/49ba202d-f2f0-4223-8e0b-1e5a1ed6cdf3?version=0.42.2\n"
     ]
    }
   ],
   "source": [
    "show(quantum_program)"
   ]
  },
  {
   "cell_type": "code",
   "execution_count": 9,
   "metadata": {},
   "outputs": [
    {
     "name": "stdout",
     "output_type": "stream",
     "text": [
      "[{'x': 10.0, 'y': 101.0}: 149, {'x': 5.0, 'y': 26.0}: 141, {'x': 2.0, 'y': 5.0}: 140, {'x': 1.0, 'y': 2.0}: 140, {'x': 6.0, 'y': 37.0}: 139, {'x': 12.0, 'y': 145.0}: 133, {'x': 9.0, 'y': 82.0}: 130, {'x': 8.0, 'y': 65.0}: 126, {'x': 4.0, 'y': 17.0}: 125, {'x': 14.0, 'y': 197.0}: 123, {'x': 0.0, 'y': 1.0}: 122, {'x': 13.0, 'y': 170.0}: 122, {'x': 3.0, 'y': 10.0}: 120, {'x': 15.0, 'y': 226.0}: 117, {'x': 11.0, 'y': 122.0}: 111, {'x': 7.0, 'y': 50.0}: 110]\n"
     ]
    }
   ],
   "source": [
    "job = execute(quantum_program)\n",
    "results = job.result()[0].value.parsed_counts\n",
    "print(results)"
   ]
  },
  {
   "cell_type": "code",
   "execution_count": 10,
   "metadata": {},
   "outputs": [],
   "source": [
    "write_qmod(create_model(main), \"hello_many_worlds\")"
   ]
  },
  {
   "cell_type": "code",
   "execution_count": null,
   "metadata": {},
   "outputs": [],
   "source": []
  }
 ],
 "metadata": {
  "kernelspec": {
   "display_name": "Python 3 (ipykernel)",
   "language": "python",
   "name": "python3"
  },
  "language_info": {
   "codemirror_mode": {
    "name": "ipython",
    "version": 3
   },
   "file_extension": ".py",
   "mimetype": "text/x-python",
   "name": "python",
   "nbconvert_exporter": "python",
   "pygments_lexer": "ipython3",
   "version": "3.11.9"
  }
 },
 "nbformat": 4,
 "nbformat_minor": 4
}