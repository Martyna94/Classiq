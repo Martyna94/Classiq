{
 "cells": [
  {
   "cell_type": "markdown",
   "source": [
    "The Hadamard Test is a fundamental quantum algorithm used to determine the expectation value of a unitary operator with respect to a quantum state. This algorithm provides insight into how quantum transformations affect states and is critical in areas such as quantum computing and quantum information.\n",
    "\n",
    "**How the Hadamard Test Works**\n",
    "\n",
    "Here are the steps involved in the Hadamard Test:"
   ],
   "metadata": {
    "collapsed": false
   }
  },
  {
   "cell_type": "code",
   "execution_count": null,
   "outputs": [],
   "source": [],
   "metadata": {
    "collapsed": false,
    "pycharm": {
     "name": "#%%\n"
    }
   }
  },
  {
   "cell_type": "markdown",
   "metadata": {},
   "source": [
    "# [Hadamard Test Tutorial](https://github.com/TannerTorrey3/classiq-library/blob/e0b7cc1e5b91700c0d73c011914db01ebd6b8de8/tutorials/technology_demonstrations/hadamard_test/hadamard_test.ipynb)\n",
    "\n",
    "[Lecture](https://www.youtube.com/watch?v=utONREgz6qA&list=PL_wGNAk5B0pXq98BJBKsbNH2Qjp1lk8dG&index=25)\n",
    "\n",
    "![Lecture](./images/Lecture.png)\n",
    "\n",
    "This tutorial will guide you through the understanding and implementation of the Hadamard Test in quantum computing. We'll explore why the Hadamard Test is important, delve into its applications, and provide Python code snippets for practical understanding.\n",
    "\n",
    "## Introduction to the Hadamard Test\n",
    "\n",
    "The Hadamard Test is a significant quantum algorithm used to measure the real and imaginary parts of the expectation value of a unitary operator. This is pivotal in quantum computing for various applications, including quantum algorithm validation, phase estimation, and more.\n",
    "\n",
    "### Why is the Hadamard Test Important?\n",
    "\n",
    "The Hadamard Test is crucial for several reasons:\n",
    "\n",
    "1. **Phase Estimation:** It helps in estimating the phase (angle) that a quantum state acquires after a unitary transformation, which is vital for algorithms like Shor's algorithm.\n",
    "2. **Quantum Algorithm Validation:** It provides a way to verify the correctness of quantum algorithms by measuring their output states.\n",
    "3. **General Quantum Measurements:** The test enables the measurement of complex quantities that are otherwise difficult to obtain directly using standard quantum computational methods.\n",
    "\n",
    "## Applications of the Hadamard Test\n",
    "\n",
    "The Hadamard Test finds applications in various fields of quantum computing:\n",
    "\n",
    "- **Quantum Algorithm Development:** It's used in the development and debugging of quantum algorithms.\n",
    "- **Quantum Chemistry:** In simulating molecular systems, it helps in measuring the expectation values of Hamiltonians.\n",
    "- **Quantum Machine Learning:** It's used in quantum machine learning algorithms to estimate gradients and other quantities.\n",
    "\n",
    "---\n",
    "\n",
    "## Experimenting with the Hadamard Test\n",
    "\n"
   ]
  },
  {
   "cell_type": "code",
   "execution_count": 4,
   "metadata": {},
   "outputs": [],
   "source": [
    "from classiq import *\n",
    "import numpy as np"
   ]
  },
  {
   "cell_type": "markdown",
   "metadata": {},
   "source": [
    "## Implementing Hadamard Test\n",
    "\n",
    "\n",
    "### Objective\n",
    "Find the expectation value of $\\langle\\psi|U|\\psi\\rangle$, using a quantum function `hadamard_test_r`. Find the expectation value of $\\langle\\psi|U\\psi\\rangle$'s imaginary part using `hadamard_test_i`.\n",
    "\n",
    "### Process Overview\n",
    "\n",
    "#### Step 1: Initialize $|\\psi\\rangle$\n",
    "\n",
    "- **Random State Creation**: Generate a random amplitude for $|\\psi\\rangle$.\n",
    "- **Quantum State Preparation**: Utilize `prepare_amplitudes` from the Classiq SDK to initialize the quantum state of the $\\psi$ qubit based on the amplitude.\n",
    "\n",
    "### Implementation Details\n",
    "\n",
    "Generate an array of random numbers within the range [-1, 1]. The array size equals the number of possible superposition states for `NUM_QUBITS`, aligning with the quantum system's complexity. Since we are only using one qubit, we will generate an array of size two ($2^1$)."
   ]
  },
  {
   "cell_type": "code",
   "execution_count": 5,
   "metadata": {},
   "outputs": [
    {
     "name": "stdout",
     "output_type": "stream",
     "text": [
      "[-0.99934306 -0.03624152]\n"
     ]
    }
   ],
   "source": [
    "np.random.seed(18)\n",
    "\n",
    "NUM_QUBITS = 1\n",
    "amps1 = 1 - 2 * np.random.rand(2**NUM_QUBITS)\n",
    "amps1 = amps1 / np.linalg.norm(amps1)\n",
    "print(amps1)"
   ]
  },
  {
   "cell_type": "markdown",
   "metadata": {},
   "source": [
    "#### Step 2: Create a Quantum Function for the Real Expectation Value\n",
    "The steps for a hadamard test are as follows:\n",
    "- Apply a hadamard to the ancilla qubit\n",
    "- Apply a controlled unitary operation with the ancilla qubit as the control and $|\\psi\\rangle$ as the target. In our case, the controlled unitary operation is the controlled-not(CX) gate.\n",
    "- Apply a hadamard to the ancilla qubit\n",
    "- Measure the ancilla \n",
    "\n",
    "Notice how `hadamard_test_r` implements the steps above in readable and concise manner."
   ]
  },
  {
   "cell_type": "code",
   "execution_count": 7,
   "metadata": {},
   "outputs": [],
   "source": [
    "@qfunc\n",
    "def hadamard_test_r(psi: QBit, ancilla:Output[QBit]):\n",
    "    allocate(out=ancilla,num_qubits=1)\n",
    "    hadamard_transform(ancilla)\n",
    "    CX(ancilla,psi)\n",
    "    hadamard_transform(ancilla)"
   ]
  },
  {
   "cell_type": "code",
   "execution_count": 8,
   "metadata": {},
   "outputs": [
    {
     "name": "stdout",
     "output_type": "stream",
     "text": [
      "Opening: https://platform.classiq.io/circuit/6a28ecba-aa95-4f77-b4bb-a0e445ca0b0a?version=0.43.0\n"
     ]
    }
   ],
   "source": [
    "@qfunc\n",
    "def main(ancilla_real:Output[QBit]):\n",
    "    psi = QBit(\"state1\")\n",
    "    prepare_amplitudes(amps1.tolist(), 0.0, psi)\n",
    "    hadamard_test_r(psi, ancilla_real)\n",
    "\n",
    "qmod = create_model(main)\n",
    "qprog = synthesize(qmod)\n",
    "show(qprog)"
   ]
  },
  {
   "cell_type": "markdown",
   "source": [
    "![circuit](./images/Hadamard_1.png)"
   ],
   "metadata": {
    "collapsed": false
   }
  },
  {
   "cell_type": "markdown",
   "metadata": {},
   "source": [
    "With the quantum program created, we can now calculate the expectation value using the following formula:\n",
    "$E=P(0)−P(1)$\n",
    "\n",
    "Where $P(0)$ and $P(1)$ are the probabilities of measuring the qubit in state ∣0 and ∣1⟩, respectively. These probabilities can be computed from the counts dictionary as follows:\n",
    "\n",
    "$P(0) = \\frac{Counts(0)}{Total Counts}$\n",
    "<br><br>\n",
    "\n",
    "$P(1) = \\frac{Counts(1)}{Total Counts}$\n"
   ]
  },
  {
   "cell_type": "code",
   "execution_count": 9,
   "metadata": {},
   "outputs": [
    {
     "name": "stdout",
     "output_type": "stream",
     "text": [
      "Expectation value from real part: 0.044921875\n"
     ]
    }
   ],
   "source": [
    "result = execute(qprog).result()\n",
    "\n",
    "p0 = result[0].value.counts[\"0\"] / sum(result[0].value.counts.values())\n",
    "p1 = result[0].value.counts[\"1\"] / sum(result[0].value.counts.values())\n",
    "expectation = p0 - p1\n",
    "\n",
    "print(f\"Expectation value from real part: {expectation}\")"
   ]
  },
  {
   "cell_type": "markdown",
   "metadata": {},
   "source": [
    "#### Step 2: Create a Quantum Function for the Imaginary Expectation Value\n",
    "The steps for a hadamard test are as follows:\n",
    "- Apply a hadamard to the ancilla qubit\n",
    "- Apply a phase shift of $\\frac{\\pi}{2}$ to the ancilla qubit\n",
    "- Apply a controlled unitary operation with the ancilla qubit as the control and $|\\psi\\rangle$ as the target. In our case, the controlled unitary operation is the controlled-not(CX) gate.\n",
    "- Apply a hadamard to the ancilla qubit\n",
    "- Measure the ancilla \n",
    "\n",
    "Notice how `hadamard_test_i` implements the steps above in a readable and concise manner."
   ]
  },
  {
   "cell_type": "code",
   "execution_count": 10,
   "metadata": {},
   "outputs": [],
   "source": [
    "@qfunc\n",
    "def hadamard_test_i(psi: QBit, ancilla:Output[QBit]):\n",
    "    allocate(out=ancilla,num_qubits=1)\n",
    "    hadamard_transform(ancilla)\n",
    "    RZ(np.pi/2,ancilla)\n",
    "    CX(ancilla,psi)\n",
    "    hadamard_transform(ancilla)"
   ]
  },
  {
   "cell_type": "markdown",
   "metadata": {},
   "source": [
    "### Step 3: Putting it All Together\n",
    "- Prepare $|\\psi\\rangle$.\n",
    "- Use use `hadamard_test_i` to find the expectation value for imaginary parts."
   ]
  },
  {
   "cell_type": "code",
   "execution_count": 12,
   "metadata": {},
   "outputs": [
    {
     "name": "stdout",
     "output_type": "stream",
     "text": [
      "Opening: https://platform.classiq.io/circuit/2af3a40a-aca3-4fa5-979a-7a39140b258c?version=0.43.0\n"
     ]
    }
   ],
   "source": [
    "@qfunc\n",
    "def main(ancilla_imag:Output[QBit]):\n",
    "    psi = QBit(\"state1\")\n",
    "    prepare_amplitudes(amps1.tolist(), 0.0, psi)\n",
    "    hadamard_test_i(psi, ancilla_imag)\n",
    "\n",
    "qmod = create_model(main)\n",
    "qprog = synthesize(qmod)\n",
    "show(qprog)"
   ]
  },
  {
   "cell_type": "markdown",
   "source": [
    "![circuit](./images/Hadamard_2.png)"
   ],
   "metadata": {
    "collapsed": false,
    "pycharm": {
     "name": "#%% md\n"
    }
   }
  },
  {
   "cell_type": "markdown",
   "metadata": {},
   "source": [
    "Once again we will calculate the expectation value using the following formula:\n",
    "<br><br>\n",
    "$E=P(0)−P(1)$\n"
   ]
  },
  {
   "cell_type": "code",
   "execution_count": 13,
   "metadata": {},
   "outputs": [
    {
     "name": "stdout",
     "output_type": "stream",
     "text": [
      "Expectation value from imaginary part: -0.0087890625\n"
     ]
    }
   ],
   "source": [
    "result = execute(qprog).result()\n",
    "\n",
    "p0 = result[0].value.counts[\"0\"] / sum(result[0].value.counts.values())\n",
    "p1 = result[0].value.counts[\"1\"] / sum(result[0].value.counts.values())\n",
    "expectation = p0 - p1\n",
    "\n",
    "print(f\"Expectation value from imaginary part: {expectation}\")"
   ]
  },
  {
   "cell_type": "markdown",
   "metadata": {},
   "source": [
    "### Example 2: \n",
    "\n",
    "We wil now use the Hadamard-Test to create the notorious Swap-Test. Swap-Test compares two quantum states, $|\\psi\\rangle$ and $|\\phi\\rangle$. The Swap-Test is the same as the Hadamard test for real parts, except it uses a bit-wise controlled Swap Gate as the controlled unitary operator. For Swap-Test the control qubit will be the ancilla and the targets will be $\\psi$ and $\\phi$."
   ]
  },
  {
   "cell_type": "code",
   "execution_count": 24,
   "metadata": {},
   "outputs": [],
   "source": [
    "@qfunc\n",
    "def bit_wise_swap(psi: QArray[QBit], phi: QArray[QBit]):\n",
    "    repeat(psi.len(), lambda i: SWAP(psi[i],phi[i]))\n",
    "\n",
    "def perform_bit_wise_swap(psi, phi):\n",
    "    bit_wise_swap(psi, phi)\n",
    "@qfunc\n",
    "def local_swap_test(ancilla:Output[QBit], psi: QArray[QBit], phi: QArray[QBit]):\n",
    "    allocate(1,ancilla)\n",
    "    H(ancilla)\n",
    "    control(perform_bit_wise_swap,ancilla, psi,phi)\n",
    "    H(ancilla)"
   ]
  },
  {
   "cell_type": "markdown",
   "metadata": {},
   "source": [
    "Now we generate two random arrays to initialize psi and phi. This will provide us will two different states to compare using our local swap test. Notice how difficult implementing swap test at a gate level is, thankfully we have Classiq's built-in `swap_test` function."
   ]
  },
  {
   "cell_type": "code",
   "execution_count": 27,
   "metadata": {},
   "outputs": [
    {
     "ename": "TypeError",
     "evalue": "control() takes 2 positional arguments but 4 were given",
     "output_type": "error",
     "traceback": [
      "\u001B[1;31m---------------------------------------------------------------------------\u001B[0m",
      "\u001B[1;31mTypeError\u001B[0m                                 Traceback (most recent call last)",
      "Cell \u001B[1;32mIn[27], line 13\u001B[0m\n\u001B[0;32m     10\u001B[0m     prepare_state(probabilities\u001B[38;5;241m=\u001B[39mphi_state, bound\u001B[38;5;241m=\u001B[39m\u001B[38;5;241m1e-4\u001B[39m, out\u001B[38;5;241m=\u001B[39mphi)\n\u001B[0;32m     11\u001B[0m     local_swap_test(ancilla,psi, phi)\n\u001B[1;32m---> 13\u001B[0m qmod \u001B[38;5;241m=\u001B[39m \u001B[43mcreate_model\u001B[49m\u001B[43m(\u001B[49m\u001B[43mmain\u001B[49m\u001B[43m)\u001B[49m\n\u001B[0;32m     14\u001B[0m qmod \u001B[38;5;241m=\u001B[39m set_execution_preferences(\n\u001B[0;32m     15\u001B[0m     qmod, execution_preferences\u001B[38;5;241m=\u001B[39mExecutionPreferences(num_shots\u001B[38;5;241m=\u001B[39m\u001B[38;5;241m100_000\u001B[39m)\n\u001B[0;32m     16\u001B[0m )\n\u001B[0;32m     17\u001B[0m qprog \u001B[38;5;241m=\u001B[39m synthesize(qmod)\n",
      "File \u001B[1;32m~\\anaconda3\\envs\\Classiq_2024\\lib\\site-packages\\classiq\\qmod\\quantum_function.py:44\u001B[0m, in \u001B[0;36mcreate_model\u001B[1;34m(entry_point, constraints, execution_preferences, preferences, classical_execution_function)\u001B[0m\n\u001B[0;32m     40\u001B[0m \u001B[38;5;28;01mif\u001B[39;00m entry_point\u001B[38;5;241m.\u001B[39mfunc_decl\u001B[38;5;241m.\u001B[39mname \u001B[38;5;241m!=\u001B[39m \u001B[38;5;124m\"\u001B[39m\u001B[38;5;124mmain\u001B[39m\u001B[38;5;124m\"\u001B[39m:\n\u001B[0;32m     41\u001B[0m     \u001B[38;5;28;01mraise\u001B[39;00m ClassiqError(\n\u001B[0;32m     42\u001B[0m         \u001B[38;5;124mf\u001B[39m\u001B[38;5;124m\"\u001B[39m\u001B[38;5;124mThe entry point function must be named \u001B[39m\u001B[38;5;124m'\u001B[39m\u001B[38;5;124mmain\u001B[39m\u001B[38;5;124m'\u001B[39m\u001B[38;5;124m, got \u001B[39m\u001B[38;5;124m'\u001B[39m\u001B[38;5;132;01m{\u001B[39;00mentry_point\u001B[38;5;241m.\u001B[39mfunc_decl\u001B[38;5;241m.\u001B[39mname\u001B[38;5;132;01m}\u001B[39;00m\u001B[38;5;124m'\u001B[39m\u001B[38;5;124m\"\u001B[39m\n\u001B[0;32m     43\u001B[0m     )\n\u001B[1;32m---> 44\u001B[0m \u001B[38;5;28;01mreturn\u001B[39;00m \u001B[43mentry_point\u001B[49m\u001B[38;5;241;43m.\u001B[39;49m\u001B[43mcreate_model\u001B[49m\u001B[43m(\u001B[49m\n\u001B[0;32m     45\u001B[0m \u001B[43m    \u001B[49m\u001B[43mconstraints\u001B[49m\u001B[43m,\u001B[49m\u001B[43m \u001B[49m\u001B[43mexecution_preferences\u001B[49m\u001B[43m,\u001B[49m\u001B[43m \u001B[49m\u001B[43mpreferences\u001B[49m\u001B[43m,\u001B[49m\u001B[43m \u001B[49m\u001B[43mclassical_execution_function\u001B[49m\n\u001B[0;32m     46\u001B[0m \u001B[43m\u001B[49m\u001B[43m)\u001B[49m\u001B[38;5;241m.\u001B[39mget_model()\n",
      "File \u001B[1;32m~\\anaconda3\\envs\\Classiq_2024\\lib\\site-packages\\classiq\\qmod\\quantum_function.py:80\u001B[0m, in \u001B[0;36mQFunc.create_model\u001B[1;34m(self, constraints, execution_preferences, preferences, classical_execution_function)\u001B[0m\n\u001B[0;32m     78\u001B[0m \u001B[38;5;28mself\u001B[39m\u001B[38;5;241m.\u001B[39m_qmodule\u001B[38;5;241m.\u001B[39mconstants \u001B[38;5;241m=\u001B[39m \u001B[38;5;28mdict\u001B[39m()\n\u001B[0;32m     79\u001B[0m QConstant\u001B[38;5;241m.\u001B[39mset_current_model(\u001B[38;5;28mself\u001B[39m\u001B[38;5;241m.\u001B[39m_qmodule)\n\u001B[1;32m---> 80\u001B[0m \u001B[38;5;28;43mself\u001B[39;49m\u001B[38;5;241;43m.\u001B[39;49m\u001B[43mexpand\u001B[49m\u001B[43m(\u001B[49m\u001B[43m)\u001B[49m\n\u001B[0;32m     81\u001B[0m model_extra_settings: List[Tuple[\u001B[38;5;28mstr\u001B[39m, Any]] \u001B[38;5;241m=\u001B[39m [\n\u001B[0;32m     82\u001B[0m     (\u001B[38;5;124m\"\u001B[39m\u001B[38;5;124mconstraints\u001B[39m\u001B[38;5;124m\"\u001B[39m, constraints),\n\u001B[0;32m     83\u001B[0m     (\u001B[38;5;124m\"\u001B[39m\u001B[38;5;124mexecution_preferences\u001B[39m\u001B[38;5;124m\"\u001B[39m, execution_preferences),\n\u001B[0;32m     84\u001B[0m     (\u001B[38;5;124m\"\u001B[39m\u001B[38;5;124mpreferences\u001B[39m\u001B[38;5;124m\"\u001B[39m, preferences),\n\u001B[0;32m     85\u001B[0m ]\n\u001B[0;32m     86\u001B[0m \u001B[38;5;28;01mif\u001B[39;00m classical_execution_function \u001B[38;5;129;01mis\u001B[39;00m \u001B[38;5;129;01mnot\u001B[39;00m \u001B[38;5;28;01mNone\u001B[39;00m:\n",
      "File \u001B[1;32m~\\anaconda3\\envs\\Classiq_2024\\lib\\site-packages\\classiq\\qmod\\quantum_function.py:102\u001B[0m, in \u001B[0;36mQFunc.expand\u001B[1;34m(self)\u001B[0m\n\u001B[0;32m    100\u001B[0m \u001B[38;5;28;01mif\u001B[39;00m \u001B[38;5;28mself\u001B[39m\u001B[38;5;241m.\u001B[39mfunc_decl\u001B[38;5;241m.\u001B[39mname \u001B[38;5;129;01min\u001B[39;00m \u001B[38;5;28mself\u001B[39m\u001B[38;5;241m.\u001B[39m_qmodule\u001B[38;5;241m.\u001B[39mnative_defs:\n\u001B[0;32m    101\u001B[0m     \u001B[38;5;28;01mreturn\u001B[39;00m\n\u001B[1;32m--> 102\u001B[0m \u001B[38;5;28;43msuper\u001B[39;49m\u001B[43m(\u001B[49m\u001B[43m)\u001B[49m\u001B[38;5;241;43m.\u001B[39;49m\u001B[43mexpand\u001B[49m\u001B[43m(\u001B[49m\u001B[43m)\u001B[49m\n\u001B[0;32m    103\u001B[0m \u001B[38;5;28mself\u001B[39m\u001B[38;5;241m.\u001B[39m_qmodule\u001B[38;5;241m.\u001B[39mnative_defs[\u001B[38;5;28mself\u001B[39m\u001B[38;5;241m.\u001B[39mfunc_decl\u001B[38;5;241m.\u001B[39mname] \u001B[38;5;241m=\u001B[39m NativeFunctionDefinition(\n\u001B[0;32m    104\u001B[0m     \u001B[38;5;241m*\u001B[39m\u001B[38;5;241m*\u001B[39m{\u001B[38;5;241m*\u001B[39m\u001B[38;5;241m*\u001B[39m\u001B[38;5;28mself\u001B[39m\u001B[38;5;241m.\u001B[39mfunc_decl\u001B[38;5;241m.\u001B[39mdict(), \u001B[38;5;241m*\u001B[39m\u001B[38;5;241m*\u001B[39m{\u001B[38;5;124m\"\u001B[39m\u001B[38;5;124mbody\u001B[39m\u001B[38;5;124m\"\u001B[39m: \u001B[38;5;28mself\u001B[39m\u001B[38;5;241m.\u001B[39mbody}}\n\u001B[0;32m    105\u001B[0m )\n",
      "File \u001B[1;32m~\\anaconda3\\envs\\Classiq_2024\\lib\\site-packages\\classiq\\qmod\\quantum_expandable.py:93\u001B[0m, in \u001B[0;36mQExpandable.expand\u001B[1;34m(self)\u001B[0m\n\u001B[0;32m     91\u001B[0m \u001B[38;5;28;01mif\u001B[39;00m \u001B[38;5;28mself\u001B[39m \u001B[38;5;129;01mnot\u001B[39;00m \u001B[38;5;129;01min\u001B[39;00m QExpandable\u001B[38;5;241m.\u001B[39mSTACK:\n\u001B[0;32m     92\u001B[0m     \u001B[38;5;28;01mwith\u001B[39;00m \u001B[38;5;28mself\u001B[39m:\n\u001B[1;32m---> 93\u001B[0m         \u001B[38;5;28;43mself\u001B[39;49m\u001B[38;5;241;43m.\u001B[39;49m\u001B[43m_py_callable\u001B[49m\u001B[43m(\u001B[49m\u001B[38;5;241;43m*\u001B[39;49m\u001B[38;5;28;43mself\u001B[39;49m\u001B[38;5;241;43m.\u001B[39;49m\u001B[43m_get_positional_args\u001B[49m\u001B[43m(\u001B[49m\u001B[43m)\u001B[49m\u001B[43m)\u001B[49m\n",
      "Cell \u001B[1;32mIn[27], line 11\u001B[0m, in \u001B[0;36mmain\u001B[1;34m(ancilla)\u001B[0m\n\u001B[0;32m      9\u001B[0m prepare_state(probabilities\u001B[38;5;241m=\u001B[39mpsi_state, bound\u001B[38;5;241m=\u001B[39m\u001B[38;5;241m1e-4\u001B[39m, out\u001B[38;5;241m=\u001B[39mpsi)\n\u001B[0;32m     10\u001B[0m prepare_state(probabilities\u001B[38;5;241m=\u001B[39mphi_state, bound\u001B[38;5;241m=\u001B[39m\u001B[38;5;241m1e-4\u001B[39m, out\u001B[38;5;241m=\u001B[39mphi)\n\u001B[1;32m---> 11\u001B[0m \u001B[43mlocal_swap_test\u001B[49m\u001B[43m(\u001B[49m\u001B[43mancilla\u001B[49m\u001B[43m,\u001B[49m\u001B[43mpsi\u001B[49m\u001B[43m,\u001B[49m\u001B[43m \u001B[49m\u001B[43mphi\u001B[49m\u001B[43m)\u001B[49m\n",
      "File \u001B[1;32m~\\anaconda3\\envs\\Classiq_2024\\lib\\site-packages\\classiq\\qmod\\quantum_function.py:66\u001B[0m, in \u001B[0;36mQFunc.__call__\u001B[1;34m(self, *args, **kwargs)\u001B[0m\n\u001B[0;32m     64\u001B[0m \u001B[38;5;28;01mdef\u001B[39;00m \u001B[38;5;21m__call__\u001B[39m(\u001B[38;5;28mself\u001B[39m, \u001B[38;5;241m*\u001B[39margs: Any, \u001B[38;5;241m*\u001B[39m\u001B[38;5;241m*\u001B[39mkwargs: Any) \u001B[38;5;241m-\u001B[39m\u001B[38;5;241m>\u001B[39m \u001B[38;5;28;01mNone\u001B[39;00m:\n\u001B[0;32m     65\u001B[0m     \u001B[38;5;28msuper\u001B[39m()\u001B[38;5;241m.\u001B[39m\u001B[38;5;21m__call__\u001B[39m(\u001B[38;5;241m*\u001B[39margs, \u001B[38;5;241m*\u001B[39m\u001B[38;5;241m*\u001B[39mkwargs)\n\u001B[1;32m---> 66\u001B[0m     \u001B[38;5;28;43mself\u001B[39;49m\u001B[38;5;241;43m.\u001B[39;49m\u001B[43mexpand\u001B[49m\u001B[43m(\u001B[49m\u001B[43m)\u001B[49m\n",
      "File \u001B[1;32m~\\anaconda3\\envs\\Classiq_2024\\lib\\site-packages\\classiq\\qmod\\quantum_function.py:102\u001B[0m, in \u001B[0;36mQFunc.expand\u001B[1;34m(self)\u001B[0m\n\u001B[0;32m    100\u001B[0m \u001B[38;5;28;01mif\u001B[39;00m \u001B[38;5;28mself\u001B[39m\u001B[38;5;241m.\u001B[39mfunc_decl\u001B[38;5;241m.\u001B[39mname \u001B[38;5;129;01min\u001B[39;00m \u001B[38;5;28mself\u001B[39m\u001B[38;5;241m.\u001B[39m_qmodule\u001B[38;5;241m.\u001B[39mnative_defs:\n\u001B[0;32m    101\u001B[0m     \u001B[38;5;28;01mreturn\u001B[39;00m\n\u001B[1;32m--> 102\u001B[0m \u001B[38;5;28;43msuper\u001B[39;49m\u001B[43m(\u001B[49m\u001B[43m)\u001B[49m\u001B[38;5;241;43m.\u001B[39;49m\u001B[43mexpand\u001B[49m\u001B[43m(\u001B[49m\u001B[43m)\u001B[49m\n\u001B[0;32m    103\u001B[0m \u001B[38;5;28mself\u001B[39m\u001B[38;5;241m.\u001B[39m_qmodule\u001B[38;5;241m.\u001B[39mnative_defs[\u001B[38;5;28mself\u001B[39m\u001B[38;5;241m.\u001B[39mfunc_decl\u001B[38;5;241m.\u001B[39mname] \u001B[38;5;241m=\u001B[39m NativeFunctionDefinition(\n\u001B[0;32m    104\u001B[0m     \u001B[38;5;241m*\u001B[39m\u001B[38;5;241m*\u001B[39m{\u001B[38;5;241m*\u001B[39m\u001B[38;5;241m*\u001B[39m\u001B[38;5;28mself\u001B[39m\u001B[38;5;241m.\u001B[39mfunc_decl\u001B[38;5;241m.\u001B[39mdict(), \u001B[38;5;241m*\u001B[39m\u001B[38;5;241m*\u001B[39m{\u001B[38;5;124m\"\u001B[39m\u001B[38;5;124mbody\u001B[39m\u001B[38;5;124m\"\u001B[39m: \u001B[38;5;28mself\u001B[39m\u001B[38;5;241m.\u001B[39mbody}}\n\u001B[0;32m    105\u001B[0m )\n",
      "File \u001B[1;32m~\\anaconda3\\envs\\Classiq_2024\\lib\\site-packages\\classiq\\qmod\\quantum_expandable.py:93\u001B[0m, in \u001B[0;36mQExpandable.expand\u001B[1;34m(self)\u001B[0m\n\u001B[0;32m     91\u001B[0m \u001B[38;5;28;01mif\u001B[39;00m \u001B[38;5;28mself\u001B[39m \u001B[38;5;129;01mnot\u001B[39;00m \u001B[38;5;129;01min\u001B[39;00m QExpandable\u001B[38;5;241m.\u001B[39mSTACK:\n\u001B[0;32m     92\u001B[0m     \u001B[38;5;28;01mwith\u001B[39;00m \u001B[38;5;28mself\u001B[39m:\n\u001B[1;32m---> 93\u001B[0m         \u001B[38;5;28;43mself\u001B[39;49m\u001B[38;5;241;43m.\u001B[39;49m\u001B[43m_py_callable\u001B[49m\u001B[43m(\u001B[49m\u001B[38;5;241;43m*\u001B[39;49m\u001B[38;5;28;43mself\u001B[39;49m\u001B[38;5;241;43m.\u001B[39;49m\u001B[43m_get_positional_args\u001B[49m\u001B[43m(\u001B[49m\u001B[43m)\u001B[49m\u001B[43m)\u001B[49m\n",
      "Cell \u001B[1;32mIn[24], line 11\u001B[0m, in \u001B[0;36mlocal_swap_test\u001B[1;34m(ancilla, psi, phi)\u001B[0m\n\u001B[0;32m      9\u001B[0m allocate(\u001B[38;5;241m1\u001B[39m,ancilla)\n\u001B[0;32m     10\u001B[0m H(ancilla)\n\u001B[1;32m---> 11\u001B[0m \u001B[43mcontrol\u001B[49m\u001B[43m(\u001B[49m\u001B[43mperform_bit_wise_swap\u001B[49m\u001B[43m,\u001B[49m\u001B[43mancilla\u001B[49m\u001B[43m,\u001B[49m\u001B[43m \u001B[49m\u001B[43mpsi\u001B[49m\u001B[43m,\u001B[49m\u001B[43mphi\u001B[49m\u001B[43m)\u001B[49m\n\u001B[0;32m     12\u001B[0m H(ancilla)\n",
      "\u001B[1;31mTypeError\u001B[0m: control() takes 2 positional arguments but 4 were given"
     ]
    }
   ],
   "source": [
    "from classiq.execution import ExecutionPreferences\n",
    "@qfunc\n",
    "def main(ancilla:Output[QBit]):\n",
    "    psi_state = [0,0.333,0.333,0.334]\n",
    "    phi_state = [0.334,0.333,0.333,0]\n",
    "\n",
    "    psi = QArray('psi')\n",
    "    phi = QArray('phi')\n",
    "    prepare_state(probabilities=psi_state, bound=1e-4, out=psi)\n",
    "    prepare_state(probabilities=phi_state, bound=1e-4, out=phi)\n",
    "    local_swap_test(ancilla,psi, phi)\n",
    "\n",
    "qmod = create_model(main)\n",
    "qmod = set_execution_preferences(\n",
    "    qmod, execution_preferences=ExecutionPreferences(num_shots=100_000)\n",
    ")"
   ]
  },
  {
   "cell_type": "code",
   "execution_count": null,
   "metadata": {},
   "outputs": [],
   "source": [
    "result = execute(qprog).result()\n",
    "\n",
    "state_overlap = np.sqrt(\n",
    "    2 * result[0].value.counts[\"0\"] / sum(result[0].value.counts.values()) - 1\n",
    ")\n",
    "\n",
    "print(f\"States overlap from Swap-Test result: {state_overlap}\")\n"
   ]
  },
  {
   "cell_type": "markdown",
   "source": [
    "Follow the implementation in class and code in the IDE the Hadamard test for calculating the (real part of the) expectation value of the QFT unitary at the state |0> with 4 qubits.  Execute the algorithm from the IDE with 1,000 shots, and calculate the (real part of the) expectation value using the formula $Re{\\Braket{0| U_{QFT}|0}} = 2P_0-1$\n",
    ". Is it what you expected it to be?"
   ],
   "metadata": {
    "collapsed": false
   }
  },
  {
   "cell_type": "code",
   "execution_count": 49,
   "outputs": [
    {
     "name": "stdout",
     "output_type": "stream",
     "text": [
      "Opening: https://platform.classiq.io/circuit/c2c9349c-606e-4cf3-bf76-9031b89c07bd?version=0.43.0\n"
     ]
    }
   ],
   "source": [
    "from classiq.execution import ExecutionPreferences\n",
    "@qfunc\n",
    "def main(expectation_value:Output[QBit]):\n",
    "    allocate(1,expectation_value)\n",
    "    psi = QArray(\"psi\")\n",
    "    allocate(4,psi)\n",
    "    #prepare_state(probabilities=[1,0,0,0,0,0,0,0,0,0,0,0,0,0,0,0], bound=0.0, out=psi)\n",
    "    hadamard_transform(expectation_value)\n",
    "    control(expectation_value,lambda: qft(psi))\n",
    "    hadamard_transform(expectation_value)\n",
    "\n",
    "qmod = create_model(main)\n",
    "qmod = set_execution_preferences(\n",
    "    qmod, execution_preferences=ExecutionPreferences(num_shots=2000)\n",
    ")\n",
    "qprog = synthesize(qmod)\n",
    "show(qprog)"
   ],
   "metadata": {
    "collapsed": false,
    "pycharm": {
     "name": "#%%\n"
    }
   }
  },
  {
   "cell_type": "code",
   "execution_count": 50,
   "outputs": [
    {
     "name": "stdout",
     "output_type": "stream",
     "text": [
      "Expectation value from real part: 0.278\n"
     ]
    }
   ],
   "source": [
    "result = execute(qprog).result()\n",
    "p0 = result[0].value.counts[\"0\"] / sum(result[0].value.counts.values())\n",
    "expectation = 2*p0-1\n",
    "print(f\"Expectation value from real part: {expectation}\")"
   ],
   "metadata": {
    "collapsed": false,
    "pycharm": {
     "name": "#%%\n"
    }
   }
  },
  {
   "cell_type": "code",
   "execution_count": 44,
   "outputs": [],
   "source": [
    "def run_hadamard_test(shots):\n",
    "\n",
    "    @qfunc\n",
    "    def main(expectation_value: Output[QBit]):\n",
    "        allocate(1, expectation_value)\n",
    "        psi = QArray(\"psi\")\n",
    "        allocate(4, psi)\n",
    "        hadamard_transform(expectation_value)\n",
    "        control(expectation_value, lambda: qft(psi))\n",
    "        hadamard_transform(expectation_value)\n",
    "\n",
    "    ### run model\n",
    "    qmod = create_model(main)\n",
    "    qmod = set_execution_preferences(\n",
    "    qmod, execution_preferences=ExecutionPreferences(num_shots=shots))\n",
    "    qprog = synthesize(qmod)\n",
    "    result = execute(qprog).result()\n",
    "\n",
    "    ## expectation value\n",
    "    p0 = result[0].value.counts[\"0\"] / sum(result[0].value.counts.values())\n",
    "    expectation = 2 * p0 - 1\n",
    "    return expectation"
   ],
   "metadata": {
    "collapsed": false,
    "pycharm": {
     "name": "#%%\n"
    }
   }
  },
  {
   "cell_type": "code",
   "execution_count": 55,
   "outputs": [
    {
     "data": {
      "text/plain": "[0.264,\n 0.2410000000000001,\n 0.274,\n 0.2490000000000001,\n 0.242375,\n 0.2563333333333333]"
     },
     "execution_count": 55,
     "metadata": {},
     "output_type": "execute_result"
    }
   ],
   "source": [
    "results"
   ],
   "metadata": {
    "collapsed": false,
    "pycharm": {
     "name": "#%%\n"
    }
   }
  },
  {
   "cell_type": "code",
   "execution_count": 56,
   "outputs": [
    {
     "data": {
      "text/plain": "<Figure size 1000x500 with 1 Axes>",
      "image/png": "[encoded data removed]"
     },
     "metadata": {},
     "output_type": "display_data"
    }
   ],
   "source": [
    "import matplotlib.pyplot as plt\n",
    "\n",
    "shots_list = [1000, 2000, 4000, 8000, 16000]\n",
    "results = [run_hadamard_test(shots) for shots in shots_list]\n",
    "theoretical_value = 0.25\n",
    "# Plotting the results\n",
    "plt.figure(figsize=(10, 5))\n",
    "plt.plot(shots_list, results, 'o-', label='Experimental Expectation Value')\n",
    "plt.axhline(y=theoretical_value, color='r', linestyle='--', label='Theoretical Expectation Value')\n",
    "plt.xlabel('Number of Shots')\n",
    "plt.ylabel('Expectation Value')\n",
    "plt.title('Hadamard Test Expectation Values vs. Number of Shots')\n",
    "plt.legend()\n",
    "plt.grid(True)\n",
    "plt.show()"
   ],
   "metadata": {
    "collapsed": false,
    "pycharm": {
     "name": "#%%\n"
    }
   }
  },
  {
   "cell_type": "markdown",
   "metadata": {},
   "source": [
    "---\n",
    "\n",
    "## Conclusion\n",
    "\n",
    "The Hadamard Test is a foundational tool in quantum computing for measuring the expectation values of unitary operators. Through this tutorial, you've learned its importance, applications, and implementation using Qiskit. Experimenting with different unitary operators and quantum circuits can deepen your understanding of quantum computing principles.\n",
    "\n",
    "### The Classiq Platform: Empowering Quantum Innovation\n",
    "\n",
    "The Classiq platform has emerged as an indispensable tool in the quantum computing industry. Its strength and importance lie in demystifying quantum programming, offering an accessible yet powerful avenue for users to design, prototype, and analyze quantum algorithms with ease. Classiq's user-friendly interface and advanced features bridge the gap between complex quantum theories and practical applications, enabling both beginners and seasoned experts to unlock quantum computing's vast potential. Through facilitating the design of sophisticated quantum functions, as demonstrated with our quadratic examples, Classiq accelerates the development of quantum applications, positioning itself as a catalyst for breakthroughs in computational power and innovation.\n",
    "\n",
    "---\n",
    "\n",
    "## Thank You!\n",
    "#### Make sure to checkout the classiq platform here: https://platform.classiq.io"
   ]
  }
 ],
 "metadata": {
  "kernelspec": {
   "display_name": "Python 3",
   "language": "python",
   "name": "python3"
  },
  "language_info": {
   "codemirror_mode": {
    "name": "ipython",
    "version": 3
   },
   "file_extension": ".py",
   "mimetype": "text/x-python",
   "name": "python",
   "nbconvert_exporter": "python",
   "pygments_lexer": "ipython3",
   "version": "3.11.8"
  }
 },
 "nbformat": 4,
 "nbformat_minor": 2
}