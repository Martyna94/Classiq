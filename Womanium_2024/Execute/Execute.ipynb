{
 "cells": [
  {
   "cell_type": "code",
   "execution_count": 1,
   "metadata": {
    "collapsed": true
   },
   "outputs": [],
   "source": [
    "from classiq import *\n",
    "\n",
    "\n",
    "@qfunc\n",
    "def main(x: Output[QNum], y: Output[QNum]):\n",
    "\n",
    "    allocate(4, x)\n",
    "    hadamard_transform(x)  # creates a uniform superposition\n",
    "    y |= x**2 + 1"
   ]
  },
  {
   "cell_type": "code",
   "execution_count": 2,
   "outputs": [],
   "source": [
    "quantum_program = synthesize(create_model(main))"
   ],
   "metadata": {
    "collapsed": false,
    "pycharm": {
     "name": "#%%\n"
    }
   }
  },
  {
   "cell_type": "code",
   "execution_count": 3,
   "outputs": [
    {
     "name": "stdout",
     "output_type": "stream",
     "text": [
      "[{'x': 2.0, 'y': 5.0}: 159, {'x': 13.0, 'y': 170.0}: 148, {'x': 15.0, 'y': 226.0}: 139, {'x': 11.0, 'y': 122.0}: 138, {'x': 5.0, 'y': 26.0}: 136, {'x': 4.0, 'y': 17.0}: 134, {'x': 3.0, 'y': 10.0}: 133, {'x': 7.0, 'y': 50.0}: 133, {'x': 10.0, 'y': 101.0}: 128, {'x': 8.0, 'y': 65.0}: 120, {'x': 0.0, 'y': 1.0}: 120, {'x': 14.0, 'y': 197.0}: 119, {'x': 6.0, 'y': 37.0}: 114, {'x': 9.0, 'y': 82.0}: 114, {'x': 1.0, 'y': 2.0}: 108, {'x': 12.0, 'y': 145.0}: 105]\n"
     ]
    }
   ],
   "source": [
    "job = execute(quantum_program)\n",
    "results = job.result()[0].value.parsed_counts\n",
    "print(results)"
   ],
   "metadata": {
    "collapsed": false,
    "pycharm": {
     "name": "#%%\n"
    }
   }
  },
  {
   "cell_type": "code",
   "execution_count": 4,
   "outputs": [],
   "source": [
    "from classiq.execution import ExecutionPreferences\n",
    "\n",
    "quantum_model = create_model(main)\n",
    "quantum_model_with_execution_preferences = set_execution_preferences(\n",
    "    quantum_model,\n",
    "    ExecutionPreferences(\n",
    "        num_shots=2048, job_name=\"classiq 101 - execute\", random_seed=767\n",
    "    ),\n",
    ")"
   ],
   "metadata": {
    "collapsed": false,
    "pycharm": {
     "name": "#%%\n"
    }
   }
  },
  {
   "cell_type": "code",
   "execution_count": 22,
   "outputs": [
    {
     "name": "stdout",
     "output_type": "stream",
     "text": [
      "NoneThe job on the provider Classiq on the backend simulator with 2048 shots is COMPLETED can be accessed in the IDE with this URL: https://platform.classiq.io/jobs/0cb4e41f-5cae-40c7-b0f4-ddc7661abced\n"
     ]
    }
   ],
   "source": [
    "print(\n",
    "    f\"{job.name}The job on the provider {job.provider} on the backend {job.backend_name} with {job.num_shots} shots is {job.status} can be accessed in the IDE with this URL: {job.ide_url}\"\n",
    ")"
   ],
   "metadata": {
    "collapsed": false,
    "pycharm": {
     "name": "#%%\n"
    }
   }
  },
  {
   "cell_type": "code",
   "execution_count": 6,
   "outputs": [],
   "source": [
    "job.open_in_ide()"
   ],
   "metadata": {
    "collapsed": false,
    "pycharm": {
     "name": "#%%\n"
    }
   }
  },
  {
   "cell_type": "code",
   "execution_count": 7,
   "outputs": [
    {
     "name": "stdout",
     "output_type": "stream",
     "text": [
      "[{'x': 2.0, 'y': 5.0}: 159, {'x': 13.0, 'y': 170.0}: 148, {'x': 15.0, 'y': 226.0}: 139, {'x': 11.0, 'y': 122.0}: 138, {'x': 5.0, 'y': 26.0}: 136, {'x': 4.0, 'y': 17.0}: 134, {'x': 3.0, 'y': 10.0}: 133, {'x': 7.0, 'y': 50.0}: 133, {'x': 10.0, 'y': 101.0}: 128, {'x': 8.0, 'y': 65.0}: 120, {'x': 0.0, 'y': 1.0}: 120, {'x': 14.0, 'y': 197.0}: 119, {'x': 6.0, 'y': 37.0}: 114, {'x': 9.0, 'y': 82.0}: 114, {'x': 1.0, 'y': 2.0}: 108, {'x': 12.0, 'y': 145.0}: 105]\n"
     ]
    }
   ],
   "source": [
    "results = job.result()[0].value\n",
    "print(results.parsed_counts)"
   ],
   "metadata": {
    "collapsed": false,
    "pycharm": {
     "name": "#%%\n"
    }
   }
  },
  {
   "cell_type": "code",
   "execution_count": 8,
   "outputs": [
    {
     "name": "stdout",
     "output_type": "stream",
     "text": [
      "{'000001010010': 159, '000010100011': 133, '000100010100': 134, '000000100001': 108, '101010101101': 148, '110001011110': 119, '001001010110': 114, '011110101011': 138, '100100011100': 105, '010000011000': 120, '000110100101': 136, '111000101111': 139, '001100100111': 133, '000000010000': 120, '011001011010': 128, '010100101001': 114}\n"
     ]
    }
   ],
   "source": [
    "print(results.counts)"
   ],
   "metadata": {
    "collapsed": false,
    "pycharm": {
     "name": "#%%\n"
    }
   }
  },
  {
   "cell_type": "code",
   "execution_count": 9,
   "outputs": [
    {
     "name": "stdout",
     "output_type": "stream",
     "text": [
      "{'000001010010': {'x': 2.0, 'y': 5.0}, '000010100011': {'x': 3.0, 'y': 10.0}, '000100010100': {'x': 4.0, 'y': 17.0}, '000000100001': {'x': 1.0, 'y': 2.0}, '101010101101': {'x': 13.0, 'y': 170.0}, '110001011110': {'x': 14.0, 'y': 197.0}, '001001010110': {'x': 6.0, 'y': 37.0}, '011110101011': {'x': 11.0, 'y': 122.0}, '100100011100': {'x': 12.0, 'y': 145.0}, '010000011000': {'x': 8.0, 'y': 65.0}, '000110100101': {'x': 5.0, 'y': 26.0}, '111000101111': {'x': 15.0, 'y': 226.0}, '001100100111': {'x': 7.0, 'y': 50.0}, '000000010000': {'x': 0.0, 'y': 1.0}, '011001011010': {'x': 10.0, 'y': 101.0}, '010100101001': {'x': 9.0, 'y': 82.0}}\n"
     ]
    }
   ],
   "source": [
    "print(results.parsed_states)"
   ],
   "metadata": {
    "collapsed": false,
    "pycharm": {
     "name": "#%%\n"
    }
   }
  },
  {
   "cell_type": "code",
   "execution_count": 10,
   "outputs": [
    {
     "name": "stdout",
     "output_type": "stream",
     "text": [
      "True\n"
     ]
    }
   ],
   "source": [
    "print(results.counts_lsb_right)"
   ],
   "metadata": {
    "collapsed": false,
    "pycharm": {
     "name": "#%%\n"
    }
   }
  },
  {
   "cell_type": "code",
   "execution_count": 11,
   "outputs": [],
   "source": [
    "write_qmod(quantum_model_with_execution_preferences, \"execute\")"
   ],
   "metadata": {
    "collapsed": false,
    "pycharm": {
     "name": "#%%\n"
    }
   }
  },
  {
   "cell_type": "markdown",
   "source": [
    "## Exercise\n",
    "\n",
    "Task A: Adapt the code such that the quantum number x is allocated with 10 qubits.\n",
    "Task B: Execute the algorithm with 5096 shots and post process the results from your Python SDK. Plot a graph of all the measured values of x and y with the corresponding axes (make sure you receive the graph of y=x2 +1)."
   ],
   "metadata": {
    "collapsed": false
   }
  },
  {
   "cell_type": "code",
   "execution_count": 25,
   "outputs": [],
   "source": [
    "from classiq import *\n",
    "\n",
    "\n",
    "@qfunc\n",
    "def main(x: Output[QNum], y: Output[QNum]):\n",
    "\n",
    "    allocate(10, x)\n",
    "    hadamard_transform(x)  # creates a uniform superposition\n",
    "    y |= x**2 + 1"
   ],
   "metadata": {
    "collapsed": false,
    "pycharm": {
     "name": "#%%\n"
    }
   }
  },
  {
   "cell_type": "code",
   "execution_count": 26,
   "outputs": [],
   "source": [
    "quantum_model = create_model(main)"
   ],
   "metadata": {
    "collapsed": false,
    "pycharm": {
     "name": "#%%\n"
    }
   }
  },
  {
   "cell_type": "code",
   "execution_count": 29,
   "outputs": [],
   "source": [
    "quantum_model_with_preferences = set_preferences(\n",
    "    quantum_model,\n",
    "    Preferences(backend_service_provider=\"IBM Quantum\", backend_name=\"ibm_kyoto\"),\n",
    ")\n",
    "\n",
    "quantum_program3 = synthesize(quantum_model_with_preferences)"
   ],
   "metadata": {
    "collapsed": false,
    "pycharm": {
     "name": "#%%\n"
    }
   }
  },
  {
   "cell_type": "code",
   "execution_count": 30,
   "outputs": [
    {
     "name": "stdout",
     "output_type": "stream",
     "text": [
      "Opening: https://platform.classiq.io/circuit/f6967771-2832-4a20-8dd5-c4d85eb35a12?version=0.42.2\n"
     ]
    }
   ],
   "source": [
    "show(quantum_program3)"
   ],
   "metadata": {
    "collapsed": false,
    "pycharm": {
     "name": "#%%\n"
    }
   }
  },
  {
   "cell_type": "code",
   "execution_count": 23,
   "outputs": [],
   "source": [
    "quantum_model = create_model(main)\n",
    "quantum_model_with_execution_preferences = set_execution_preferences(\n",
    "    quantum_model,\n",
    "    ExecutionPreferences(\n",
    "        num_shots=5096),\n",
    ")"
   ],
   "metadata": {
    "collapsed": false,
    "pycharm": {
     "name": "#%%\n"
    }
   }
  },
  {
   "cell_type": "code",
   "execution_count": 24,
   "outputs": [
    {
     "name": "stdout",
     "output_type": "stream",
     "text": [
      "Opening: https://platform.classiq.io/circuit/8acac7f2-c780-4369-be62-245022813141?version=0.42.2\n"
     ]
    }
   ],
   "source": [
    "quantum_program = synthesize(quantum_model_with_execution_preferences)\n",
    "show(quantum_program)"
   ],
   "metadata": {
    "collapsed": false,
    "pycharm": {
     "name": "#%%\n"
    }
   }
  },
  {
   "cell_type": "code",
   "execution_count": 20,
   "outputs": [
    {
     "ename": "ClassiqAPIError",
     "evalue": "Call to API failed with code 400: Requested program requires too many qubits.\nRequested qubits: 30, backend: simulator, limit: 25.\nPlease run a different program or try a different backend.\n\nIf you need further assistance, please reach out on our Community Slack channel at: https://short.classiq.io/join-slack\nIf the error persists feel free to open a ticket at: https://short.classiq.io/support",
     "output_type": "error",
     "traceback": [
      "\u001B[1;31m---------------------------------------------------------------------------\u001B[0m",
      "\u001B[1;31mClassiqAPIError\u001B[0m                           Traceback (most recent call last)",
      "Cell \u001B[1;32mIn[20], line 1\u001B[0m\n\u001B[1;32m----> 1\u001B[0m job \u001B[38;5;241m=\u001B[39m \u001B[43mexecute\u001B[49m\u001B[43m(\u001B[49m\u001B[43mquantum_program\u001B[49m\u001B[43m)\u001B[49m\n\u001B[0;32m      2\u001B[0m results \u001B[38;5;241m=\u001B[39m job\u001B[38;5;241m.\u001B[39mresult()[\u001B[38;5;241m0\u001B[39m]\u001B[38;5;241m.\u001B[39mvalue\u001B[38;5;241m.\u001B[39mparsed_counts\n\u001B[0;32m      3\u001B[0m \u001B[38;5;28mprint\u001B[39m(results)\n",
      "File \u001B[1;32m~\\anaconda3\\envs\\Classiq_2024\\lib\\site-packages\\classiq\\_internals\\async_utils.py:45\u001B[0m, in \u001B[0;36msyncify_function.<locals>.async_wrapper\u001B[1;34m(*args, **kwargs)\u001B[0m\n\u001B[0;32m     43\u001B[0m \u001B[38;5;129m@functools\u001B[39m\u001B[38;5;241m.\u001B[39mwraps(async_func)\n\u001B[0;32m     44\u001B[0m \u001B[38;5;28;01mdef\u001B[39;00m \u001B[38;5;21masync_wrapper\u001B[39m(\u001B[38;5;241m*\u001B[39margs: Any, \u001B[38;5;241m*\u001B[39m\u001B[38;5;241m*\u001B[39mkwargs: Any) \u001B[38;5;241m-\u001B[39m\u001B[38;5;241m>\u001B[39m T:\n\u001B[1;32m---> 45\u001B[0m     \u001B[38;5;28;01mreturn\u001B[39;00m \u001B[43mrun\u001B[49m\u001B[43m(\u001B[49m\u001B[43masync_func\u001B[49m\u001B[43m(\u001B[49m\u001B[38;5;241;43m*\u001B[39;49m\u001B[43margs\u001B[49m\u001B[43m,\u001B[49m\u001B[43m \u001B[49m\u001B[38;5;241;43m*\u001B[39;49m\u001B[38;5;241;43m*\u001B[39;49m\u001B[43mkwargs\u001B[49m\u001B[43m)\u001B[49m\u001B[43m)\u001B[49m\n",
      "File \u001B[1;32m~\\anaconda3\\envs\\Classiq_2024\\lib\\site-packages\\classiq\\_internals\\async_utils.py:39\u001B[0m, in \u001B[0;36mrun\u001B[1;34m(coro)\u001B[0m\n\u001B[0;32m     34\u001B[0m \u001B[38;5;28;01mdef\u001B[39;00m \u001B[38;5;21mrun\u001B[39m(coro: Awaitable[T]) \u001B[38;5;241m-\u001B[39m\u001B[38;5;241m>\u001B[39m T:\n\u001B[0;32m     35\u001B[0m     \u001B[38;5;66;03m# Use this function instead of asyncio.run, since it ALWAYS\u001B[39;00m\n\u001B[0;32m     36\u001B[0m     \u001B[38;5;66;03m# creates a new event loop and clears the thread event loop.\u001B[39;00m\n\u001B[0;32m     37\u001B[0m     \u001B[38;5;66;03m# Never use asyncio.run in library code.\u001B[39;00m\n\u001B[0;32m     38\u001B[0m     loop \u001B[38;5;241m=\u001B[39m get_event_loop()\n\u001B[1;32m---> 39\u001B[0m     \u001B[38;5;28;01mreturn\u001B[39;00m \u001B[43mloop\u001B[49m\u001B[38;5;241;43m.\u001B[39;49m\u001B[43mrun_until_complete\u001B[49m\u001B[43m(\u001B[49m\u001B[43mcoro\u001B[49m\u001B[43m)\u001B[49m\n",
      "File \u001B[1;32m~\\anaconda3\\envs\\Classiq_2024\\lib\\site-packages\\nest_asyncio.py:90\u001B[0m, in \u001B[0;36m_patch_loop.<locals>.run_until_complete\u001B[1;34m(self, future)\u001B[0m\n\u001B[0;32m     87\u001B[0m \u001B[38;5;28;01mif\u001B[39;00m \u001B[38;5;129;01mnot\u001B[39;00m f\u001B[38;5;241m.\u001B[39mdone():\n\u001B[0;32m     88\u001B[0m     \u001B[38;5;28;01mraise\u001B[39;00m \u001B[38;5;167;01mRuntimeError\u001B[39;00m(\n\u001B[0;32m     89\u001B[0m         \u001B[38;5;124m'\u001B[39m\u001B[38;5;124mEvent loop stopped before Future completed.\u001B[39m\u001B[38;5;124m'\u001B[39m)\n\u001B[1;32m---> 90\u001B[0m \u001B[38;5;28;01mreturn\u001B[39;00m \u001B[43mf\u001B[49m\u001B[38;5;241;43m.\u001B[39;49m\u001B[43mresult\u001B[49m\u001B[43m(\u001B[49m\u001B[43m)\u001B[49m\n",
      "File \u001B[1;32m~\\anaconda3\\envs\\Classiq_2024\\lib\\asyncio\\futures.py:201\u001B[0m, in \u001B[0;36mFuture.result\u001B[1;34m(self)\u001B[0m\n\u001B[0;32m    199\u001B[0m \u001B[38;5;28mself\u001B[39m\u001B[38;5;241m.\u001B[39m__log_traceback \u001B[38;5;241m=\u001B[39m \u001B[38;5;28;01mFalse\u001B[39;00m\n\u001B[0;32m    200\u001B[0m \u001B[38;5;28;01mif\u001B[39;00m \u001B[38;5;28mself\u001B[39m\u001B[38;5;241m.\u001B[39m_exception \u001B[38;5;129;01mis\u001B[39;00m \u001B[38;5;129;01mnot\u001B[39;00m \u001B[38;5;28;01mNone\u001B[39;00m:\n\u001B[1;32m--> 201\u001B[0m     \u001B[38;5;28;01mraise\u001B[39;00m \u001B[38;5;28mself\u001B[39m\u001B[38;5;241m.\u001B[39m_exception\u001B[38;5;241m.\u001B[39mwith_traceback(\u001B[38;5;28mself\u001B[39m\u001B[38;5;241m.\u001B[39m_exception_tb)\n\u001B[0;32m    202\u001B[0m \u001B[38;5;28;01mreturn\u001B[39;00m \u001B[38;5;28mself\u001B[39m\u001B[38;5;241m.\u001B[39m_result\n",
      "File \u001B[1;32m~\\anaconda3\\envs\\Classiq_2024\\lib\\asyncio\\tasks.py:232\u001B[0m, in \u001B[0;36mTask.__step\u001B[1;34m(***failed resolving arguments***)\u001B[0m\n\u001B[0;32m    228\u001B[0m \u001B[38;5;28;01mtry\u001B[39;00m:\n\u001B[0;32m    229\u001B[0m     \u001B[38;5;28;01mif\u001B[39;00m exc \u001B[38;5;129;01mis\u001B[39;00m \u001B[38;5;28;01mNone\u001B[39;00m:\n\u001B[0;32m    230\u001B[0m         \u001B[38;5;66;03m# We use the `send` method directly, because coroutines\u001B[39;00m\n\u001B[0;32m    231\u001B[0m         \u001B[38;5;66;03m# don't have `__iter__` and `__next__` methods.\u001B[39;00m\n\u001B[1;32m--> 232\u001B[0m         result \u001B[38;5;241m=\u001B[39m \u001B[43mcoro\u001B[49m\u001B[38;5;241;43m.\u001B[39;49m\u001B[43msend\u001B[49m\u001B[43m(\u001B[49m\u001B[38;5;28;43;01mNone\u001B[39;49;00m\u001B[43m)\u001B[49m\n\u001B[0;32m    233\u001B[0m     \u001B[38;5;28;01melse\u001B[39;00m:\n\u001B[0;32m    234\u001B[0m         result \u001B[38;5;241m=\u001B[39m coro\u001B[38;5;241m.\u001B[39mthrow(exc)\n",
      "File \u001B[1;32m~\\anaconda3\\envs\\Classiq_2024\\lib\\site-packages\\classiq\\executor.py:37\u001B[0m, in \u001B[0;36mexecute_async\u001B[1;34m(quantum_program)\u001B[0m\n\u001B[0;32m     35\u001B[0m \u001B[38;5;28;01masync\u001B[39;00m \u001B[38;5;28;01mdef\u001B[39;00m \u001B[38;5;21mexecute_async\u001B[39m(quantum_program: SerializedQuantumProgram) \u001B[38;5;241m-\u001B[39m\u001B[38;5;241m>\u001B[39m ExecutionJob:\n\u001B[0;32m     36\u001B[0m     circuit \u001B[38;5;241m=\u001B[39m _parse_serialized_qprog(quantum_program)\n\u001B[1;32m---> 37\u001B[0m     result \u001B[38;5;241m=\u001B[39m \u001B[38;5;28;01mawait\u001B[39;00m ApiWrapper\u001B[38;5;241m.\u001B[39mcall_execute_generated_circuit(circuit)\n\u001B[0;32m     38\u001B[0m     \u001B[38;5;28;01mreturn\u001B[39;00m ExecutionJob(details\u001B[38;5;241m=\u001B[39mresult)\n",
      "File \u001B[1;32m~\\anaconda3\\envs\\Classiq_2024\\lib\\site-packages\\classiq\\_internals\\api_wrapper.py:123\u001B[0m, in \u001B[0;36mApiWrapper.call_execute_generated_circuit\u001B[1;34m(cls, circuit)\u001B[0m\n\u001B[0;32m    114\u001B[0m execution_input \u001B[38;5;241m=\u001B[39m \u001B[38;5;28;01mawait\u001B[39;00m \u001B[38;5;28mcls\u001B[39m\u001B[38;5;241m.\u001B[39m_call_task_pydantic(\n\u001B[0;32m    115\u001B[0m     http_method\u001B[38;5;241m=\u001B[39mHTTPMethod\u001B[38;5;241m.\u001B[39mPOST,\n\u001B[0;32m    116\u001B[0m     url\u001B[38;5;241m=\u001B[39mroutes\u001B[38;5;241m.\u001B[39mCONVERSION_GENERATED_CIRCUIT_TO_EXECUTION_INPUT_FULL,\n\u001B[0;32m    117\u001B[0m     model\u001B[38;5;241m=\u001B[39mcircuit,\n\u001B[0;32m    118\u001B[0m )\n\u001B[0;32m    119\u001B[0m headers \u001B[38;5;241m=\u001B[39m {\n\u001B[0;32m    120\u001B[0m     _ACCEPT_HEADER: \u001B[38;5;124m\"\u001B[39m\u001B[38;5;124mv1\u001B[39m\u001B[38;5;124m\"\u001B[39m,\n\u001B[0;32m    121\u001B[0m     _CONTENT_TYPE_HEADER: execution_input[\u001B[38;5;124m\"\u001B[39m\u001B[38;5;124mversion\u001B[39m\u001B[38;5;124m\"\u001B[39m],\n\u001B[0;32m    122\u001B[0m }\n\u001B[1;32m--> 123\u001B[0m data \u001B[38;5;241m=\u001B[39m \u001B[38;5;28;01mawait\u001B[39;00m \u001B[38;5;28mcls\u001B[39m\u001B[38;5;241m.\u001B[39m_call_task(\n\u001B[0;32m    124\u001B[0m     http_method\u001B[38;5;241m=\u001B[39mHTTPMethod\u001B[38;5;241m.\u001B[39mPOST,\n\u001B[0;32m    125\u001B[0m     headers\u001B[38;5;241m=\u001B[39mheaders,\n\u001B[0;32m    126\u001B[0m     url\u001B[38;5;241m=\u001B[39mroutes\u001B[38;5;241m.\u001B[39mEXECUTION_JOBS_NON_VERSIONED_FULL_PATH,\n\u001B[0;32m    127\u001B[0m     body\u001B[38;5;241m=\u001B[39mexecution_input,\n\u001B[0;32m    128\u001B[0m     use_versioned_url\u001B[38;5;241m=\u001B[39m\u001B[38;5;28;01mFalse\u001B[39;00m,\n\u001B[0;32m    129\u001B[0m )\n\u001B[0;32m    130\u001B[0m \u001B[38;5;28;01mreturn\u001B[39;00m execution_request\u001B[38;5;241m.\u001B[39mExecutionJobDetails\u001B[38;5;241m.\u001B[39mparse_obj(data)\n",
      "File \u001B[1;32m~\\anaconda3\\envs\\Classiq_2024\\lib\\site-packages\\classiq\\_internals\\api_wrapper.py:90\u001B[0m, in \u001B[0;36mApiWrapper._call_task\u001B[1;34m(cls, http_method, url, body, params, use_versioned_url, headers)\u001B[0m\n\u001B[0;32m     80\u001B[0m \u001B[38;5;129m@classmethod\u001B[39m\n\u001B[0;32m     81\u001B[0m \u001B[38;5;28;01masync\u001B[39;00m \u001B[38;5;28;01mdef\u001B[39;00m \u001B[38;5;21m_call_task\u001B[39m(\n\u001B[0;32m     82\u001B[0m     \u001B[38;5;28mcls\u001B[39m,\n\u001B[1;32m   (...)\u001B[0m\n\u001B[0;32m     88\u001B[0m     headers: Optional[Dict[\u001B[38;5;28mstr\u001B[39m, \u001B[38;5;28mstr\u001B[39m]] \u001B[38;5;241m=\u001B[39m \u001B[38;5;28;01mNone\u001B[39;00m,\n\u001B[0;32m     89\u001B[0m ) \u001B[38;5;241m-\u001B[39m\u001B[38;5;241m>\u001B[39m \u001B[38;5;28mdict\u001B[39m:\n\u001B[1;32m---> 90\u001B[0m     res \u001B[38;5;241m=\u001B[39m \u001B[38;5;28;01mawait\u001B[39;00m client()\u001B[38;5;241m.\u001B[39mcall_api(\n\u001B[0;32m     91\u001B[0m         http_method\u001B[38;5;241m=\u001B[39mhttp_method,\n\u001B[0;32m     92\u001B[0m         url\u001B[38;5;241m=\u001B[39murl,\n\u001B[0;32m     93\u001B[0m         body\u001B[38;5;241m=\u001B[39mbody,\n\u001B[0;32m     94\u001B[0m         headers\u001B[38;5;241m=\u001B[39mheaders,\n\u001B[0;32m     95\u001B[0m         params\u001B[38;5;241m=\u001B[39mparams,\n\u001B[0;32m     96\u001B[0m         use_versioned_url\u001B[38;5;241m=\u001B[39muse_versioned_url,\n\u001B[0;32m     97\u001B[0m     )\n\u001B[0;32m     98\u001B[0m     \u001B[38;5;28;01mif\u001B[39;00m \u001B[38;5;129;01mnot\u001B[39;00m \u001B[38;5;28misinstance\u001B[39m(res, \u001B[38;5;28mdict\u001B[39m):\n\u001B[0;32m     99\u001B[0m         \u001B[38;5;28;01mraise\u001B[39;00m ClassiqValueError(\u001B[38;5;124mf\u001B[39m\u001B[38;5;124m\"\u001B[39m\u001B[38;5;124mUnexpected returned value: \u001B[39m\u001B[38;5;132;01m{\u001B[39;00mres\u001B[38;5;132;01m}\u001B[39;00m\u001B[38;5;124m\"\u001B[39m)\n",
      "File \u001B[1;32m~\\anaconda3\\envs\\Classiq_2024\\lib\\site-packages\\classiq\\_internals\\client.py:114\u001B[0m, in \u001B[0;36mtry_again_on_failure.<locals>.wrapper\u001B[1;34m(*args, **kwargs)\u001B[0m\n\u001B[0;32m    112\u001B[0m \u001B[38;5;28;01mfor\u001B[39;00m i \u001B[38;5;129;01min\u001B[39;00m \u001B[38;5;28mrange\u001B[39m(_RETRY_COUNT):\n\u001B[0;32m    113\u001B[0m     \u001B[38;5;28;01mtry\u001B[39;00m:\n\u001B[1;32m--> 114\u001B[0m         \u001B[38;5;28;01mreturn\u001B[39;00m \u001B[38;5;28;01mawait\u001B[39;00m func(\u001B[38;5;241m*\u001B[39margs, \u001B[38;5;241m*\u001B[39m\u001B[38;5;241m*\u001B[39mkwargs)\n\u001B[0;32m    115\u001B[0m     \u001B[38;5;28;01mexcept\u001B[39;00m ClassiqExpiredTokenError:\n\u001B[0;32m    116\u001B[0m         _logger\u001B[38;5;241m.\u001B[39minfo(\n\u001B[0;32m    117\u001B[0m             \u001B[38;5;124m\"\u001B[39m\u001B[38;5;124mToken expired when trying to \u001B[39m\u001B[38;5;132;01m%s\u001B[39;00m\u001B[38;5;124m with args \u001B[39m\u001B[38;5;132;01m%s\u001B[39;00m\u001B[38;5;124m \u001B[39m\u001B[38;5;132;01m%s\u001B[39;00m\u001B[38;5;124m\"\u001B[39m,\n\u001B[0;32m    118\u001B[0m             func,\n\u001B[1;32m   (...)\u001B[0m\n\u001B[0;32m    121\u001B[0m             exc_info\u001B[38;5;241m=\u001B[39m\u001B[38;5;28;01mTrue\u001B[39;00m,\n\u001B[0;32m    122\u001B[0m         )\n",
      "File \u001B[1;32m~\\anaconda3\\envs\\Classiq_2024\\lib\\site-packages\\classiq\\_internals\\client.py:238\u001B[0m, in \u001B[0;36mClient.call_api\u001B[1;34m(self, http_method, url, body, params, use_versioned_url, headers)\u001B[0m\n\u001B[0;32m    230\u001B[0m \u001B[38;5;28;01masync\u001B[39;00m \u001B[38;5;28;01mwith\u001B[39;00m \u001B[38;5;28mself\u001B[39m\u001B[38;5;241m.\u001B[39masync_client() \u001B[38;5;28;01mas\u001B[39;00m async_client:\n\u001B[0;32m    231\u001B[0m     response \u001B[38;5;241m=\u001B[39m \u001B[38;5;28;01mawait\u001B[39;00m async_client\u001B[38;5;241m.\u001B[39mrequest(\n\u001B[0;32m    232\u001B[0m         method\u001B[38;5;241m=\u001B[39mhttp_method,\n\u001B[0;32m    233\u001B[0m         url\u001B[38;5;241m=\u001B[39murl,\n\u001B[1;32m   (...)\u001B[0m\n\u001B[0;32m    236\u001B[0m         headers\u001B[38;5;241m=\u001B[39mheaders,\n\u001B[0;32m    237\u001B[0m     )\n\u001B[1;32m--> 238\u001B[0m     \u001B[38;5;28;43mself\u001B[39;49m\u001B[38;5;241;43m.\u001B[39;49m\u001B[43mhandle_response\u001B[49m\u001B[43m(\u001B[49m\u001B[43mresponse\u001B[49m\u001B[43m)\u001B[49m\n\u001B[0;32m    239\u001B[0m     \u001B[38;5;28;01mreturn\u001B[39;00m response\u001B[38;5;241m.\u001B[39mjson()\n",
      "File \u001B[1;32m~\\anaconda3\\envs\\Classiq_2024\\lib\\site-packages\\classiq\\_internals\\client.py:190\u001B[0m, in \u001B[0;36mClient.handle_response\u001B[1;34m(self, response)\u001B[0m\n\u001B[0;32m    188\u001B[0m \u001B[38;5;28mself\u001B[39m\u001B[38;5;241m.\u001B[39m_handle_warnings(response)\n\u001B[0;32m    189\u001B[0m \u001B[38;5;28;01mif\u001B[39;00m response\u001B[38;5;241m.\u001B[39mis_error:\n\u001B[1;32m--> 190\u001B[0m     \u001B[38;5;28;43mself\u001B[39;49m\u001B[38;5;241;43m.\u001B[39;49m\u001B[43m_handle_error\u001B[49m\u001B[43m(\u001B[49m\u001B[43mresponse\u001B[49m\u001B[43m)\u001B[49m\n\u001B[0;32m    191\u001B[0m \u001B[38;5;28mself\u001B[39m\u001B[38;5;241m.\u001B[39m_handle_success(response)\n",
      "File \u001B[1;32m~\\anaconda3\\envs\\Classiq_2024\\lib\\site-packages\\classiq\\_internals\\client.py:209\u001B[0m, in \u001B[0;36mClient._handle_error\u001B[1;34m(response)\u001B[0m\n\u001B[0;32m    207\u001B[0m \u001B[38;5;28;01mexcept\u001B[39;00m \u001B[38;5;167;01mException\u001B[39;00m:  \u001B[38;5;66;03m# noqa: S110\u001B[39;00m\n\u001B[0;32m    208\u001B[0m     \u001B[38;5;28;01mpass\u001B[39;00m\n\u001B[1;32m--> 209\u001B[0m \u001B[38;5;28;01mraise\u001B[39;00m ClassiqAPIError(message)\n",
      "\u001B[1;31mClassiqAPIError\u001B[0m: Call to API failed with code 400: Requested program requires too many qubits.\nRequested qubits: 30, backend: simulator, limit: 25.\nPlease run a different program or try a different backend.\n\nIf you need further assistance, please reach out on our Community Slack channel at: https://short.classiq.io/join-slack\nIf the error persists feel free to open a ticket at: https://short.classiq.io/support"
     ]
    }
   ],
   "source": [
    "job = execute(quantum_program)\n",
    "results = job.result()[0].value.parsed_counts\n",
    "print(results)"
   ],
   "metadata": {
    "collapsed": false,
    "pycharm": {
     "name": "#%%\n"
    }
   }
  },
  {
   "cell_type": "code",
   "execution_count": 21,
   "outputs": [
    {
     "name": "stdout",
     "output_type": "stream",
     "text": [
      "The job on the provider Classiq on the backend simulator with 2048 shots is COMPLETED can be accessed in the IDE with this URL: https://platform.classiq.io/jobs/0cb4e41f-5cae-40c7-b0f4-ddc7661abced\n"
     ]
    }
   ],
   "source": [
    "print(\n",
    "    f\"The job on the provider {job.provider} on the backend {job.backend_name} with {job.num_shots} shots is {job.status} can be accessed in the IDE with this URL: {job.ide_url}\"\n",
    ")"
   ],
   "metadata": {
    "collapsed": false,
    "pycharm": {
     "name": "#%%\n"
    }
   }
  },
  {
   "cell_type": "code",
   "execution_count": null,
   "outputs": [],
   "source": [],
   "metadata": {
    "collapsed": false,
    "pycharm": {
     "name": "#%%\n"
    }
   }
  }
 ],
 "metadata": {
  "kernelspec": {
   "display_name": "Python 3",
   "language": "python",
   "name": "python3"
  },
  "language_info": {
   "codemirror_mode": {
    "name": "ipython",
    "version": 2
   },
   "file_extension": ".py",
   "mimetype": "text/x-python",
   "name": "python",
   "nbconvert_exporter": "python",
   "pygments_lexer": "ipython2",
   "version": "2.7.6"
  }
 },
 "nbformat": 4,
 "nbformat_minor": 0
}