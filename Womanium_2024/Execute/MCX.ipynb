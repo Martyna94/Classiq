{
 "cells": [
  {
   "cell_type": "markdown",
   "source": [
    "The multi-control-X applies X gate to one target qubit bit only if the logical AND of all control qubits is satisfied. The multi-control-X function incorporates numerous implementations for the multi-control-X gate, each with a different depth and number of auxiliary qubits. These implementations generically outperform the Gray-code, V-chain and recursive implementations of Ref. [1], as well as the relative-phase Toffoli implementation of Ref. [2]. Given a sufficient number of auxiliary qubits, some implementations allow for logarithmic depth and linear CX-count. The synthesis process selects the appropriate implementation depending on the defined constraints."
   ],
   "metadata": {
    "collapsed": false,
    "pycharm": {
     "name": "#%% md\n"
    }
   }
  },
  {
   "cell_type": "code",
   "execution_count": 10,
   "metadata": {
    "collapsed": true
   },
   "outputs": [],
   "source": [
    "from classiq import (\n",
    "    Output,\n",
    "    QArray,\n",
    "    QBit,\n",
    "    X,\n",
    "    allocate,\n",
    "    control,\n",
    "    create_model,\n",
    "    prepare_bell_state,\n",
    "    qfunc,\n",
    ")\n",
    "\n",
    "\n",
    "@qfunc\n",
    "def main(cntrl: Output[QArray[QBit]], target: Output[QBit]) -> None:\n",
    "    allocate(5, cntrl)\n",
    "    allocate(1, target)\n",
    "    control(ctrl=cntrl, operand=lambda: X(target))"
   ]
  },
  {
   "cell_type": "code",
   "execution_count": 13,
   "outputs": [],
   "source": [
    "quantum_model = create_model(main)"
   ],
   "metadata": {
    "collapsed": false,
    "pycharm": {
     "name": "#%%\n"
    }
   }
  },
  {
   "cell_type": "code",
   "execution_count": 14,
   "outputs": [
    {
     "name": "stdout",
     "output_type": "stream",
     "text": [
      "Opening: https://platform.classiq.io/circuit/bce005ad-8827-44de-abc6-6df90e621da8?version=0.42.2\n"
     ]
    }
   ],
   "source": [
    "from classiq import *\n",
    "quantum_model_with_constraints1 = set_constraints(\n",
    "    quantum_model, Constraints(optimization_parameter =\n",
    "                               OptimizationParameter.DEPTH,max_width = 25)\n",
    ")\n",
    "\n",
    "quantum_program1 = synthesize(quantum_model_with_constraints1)\n",
    "show(quantum_program1)\n",
    "write_qmod(quantum_model_with_constraints1, \"optimize\")"
   ],
   "metadata": {
    "collapsed": false,
    "pycharm": {
     "name": "#%%\n"
    }
   }
  },
  {
   "cell_type": "code",
   "execution_count": 16,
   "outputs": [
    {
     "name": "stdout",
     "output_type": "stream",
     "text": [
      "Opening: https://platform.classiq.io/circuit/785091e2-0196-46de-a0ea-effbac21ed29?version=0.42.2\n"
     ]
    }
   ],
   "source": [
    "from classiq import *\n",
    "quantum_model = create_model(main)\n",
    "quantum_model_with_constraints2 = set_constraints(\n",
    "    quantum_model, Constraints(optimization_parameter=OptimizationParameter.WIDTH, max_depth = 60))\n",
    "\n",
    "quantum_program2 = synthesize(quantum_model_with_constraints2)\n",
    "show(quantum_program2)\n",
    "write_qmod(quantum_model_with_constraints2, \"optimize2\")"
   ],
   "metadata": {
    "collapsed": false,
    "pycharm": {
     "name": "#%%\n"
    }
   }
  },
  {
   "cell_type": "code",
   "execution_count": 20,
   "outputs": [
    {
     "name": "stdout",
     "output_type": "stream",
     "text": [
      "Opening: https://platform.classiq.io/circuit/85619991-befc-47a4-a7ce-e1ecaefefe6b?version=0.42.2\n"
     ]
    }
   ],
   "source": [
    "quantum_model = create_model(main)\n",
    "quantum_model_with_constraints3 = set_constraints(\n",
    "    quantum_model, Constraints(optimization_parameter=OptimizationParameter.WIDTH, max_depth = 60))\n",
    "\n",
    "quantum_program3 = synthesize(quantum_model_with_constraints3)\n",
    "show(quantum_program3)\n",
    "write_qmod(quantum_model_with_constraints3, \"optimize3\")"
   ],
   "metadata": {
    "collapsed": false,
    "pycharm": {
     "name": "#%%\n"
    }
   }
  },
  {
   "cell_type": "code",
   "execution_count": 21,
   "outputs": [],
   "source": [
    "from classiq import (\n",
    "    Output,\n",
    "    QArray,\n",
    "    QBit,\n",
    "    X,\n",
    "    allocate,\n",
    "    control,\n",
    "    create_model,\n",
    "    prepare_bell_state,\n",
    "    qfunc,\n",
    ")\n",
    "\n",
    "\n",
    "@qfunc\n",
    "def main(cntrl: Output[QArray[QBit]], target: Output[QBit]) -> None:\n",
    "    allocate(20, cntrl)\n",
    "    allocate(1, target)\n",
    "    control(ctrl=cntrl, operand=lambda: X(target))"
   ],
   "metadata": {
    "collapsed": false,
    "pycharm": {
     "name": "#%%\n"
    }
   }
  },
  {
   "cell_type": "code",
   "execution_count": 22,
   "outputs": [],
   "source": [
    "quantum_model = create_model(main)"
   ],
   "metadata": {
    "collapsed": false,
    "pycharm": {
     "name": "#%%\n"
    }
   }
  },
  {
   "cell_type": "code",
   "execution_count": 28,
   "outputs": [
    {
     "name": "stdout",
     "output_type": "stream",
     "text": [
      "Opening: https://platform.classiq.io/circuit/c176dafb-707f-456a-afeb-4ba318f9b8c5?version=0.42.2\n"
     ]
    }
   ],
   "source": [
    "from classiq import *\n",
    "quantum_model_with_constraints1 = set_constraints(\n",
    "    quantum_model, Constraints(optimization_parameter =\n",
    "                               OptimizationParameter.DEPTH,max_width = 25)\n",
    ")\n",
    "\n",
    "quantum_program1 = synthesize(quantum_model_with_constraints1)\n",
    "show(quantum_program1)\n",
    "write_qmod(quantum_model_with_constraints1, \"optimize4\")"
   ],
   "metadata": {
    "collapsed": false,
    "pycharm": {
     "name": "#%%\n"
    }
   }
  },
  {
   "cell_type": "code",
   "execution_count": 26,
   "outputs": [
    {
     "name": "stdout",
     "output_type": "stream",
     "text": [
      "Opening: https://platform.classiq.io/circuit/9dd7acfd-5398-4ab6-b908-26cedf2c4709?version=0.42.2\n"
     ]
    }
   ],
   "source": [
    "from classiq import *\n",
    "quantum_model = create_model(main)\n",
    "quantum_model_with_constraints2 = set_constraints(\n",
    "    quantum_model, Constraints(optimization_parameter=OptimizationParameter.WIDTH))\n",
    "\n",
    "quantum_program2 = synthesize(quantum_model_with_constraints2)\n",
    "show(quantum_program2)\n",
    "write_qmod(quantum_model_with_constraints2, \"optimize5\")"
   ],
   "metadata": {
    "collapsed": false,
    "pycharm": {
     "name": "#%%\n"
    }
   }
  },
  {
   "cell_type": "code",
   "execution_count": null,
   "outputs": [],
   "source": [],
   "metadata": {
    "collapsed": false,
    "pycharm": {
     "name": "#%%\n"
    }
   }
  }
 ],
 "metadata": {
  "kernelspec": {
   "display_name": "Python 3",
   "language": "python",
   "name": "python3"
  },
  "language_info": {
   "codemirror_mode": {
    "name": "ipython",
    "version": 2
   },
   "file_extension": ".py",
   "mimetype": "text/x-python",
   "name": "python",
   "nbconvert_exporter": "python",
   "pygments_lexer": "ipython2",
   "version": "2.7.6"
  }
 },
 "nbformat": 4,
 "nbformat_minor": 0
}